{
 "cells": [
  {
   "cell_type": "markdown",
   "metadata": {},
   "source": [
    "# 서포트 벡터 머신 SVM"
   ]
  },
  {
   "cell_type": "code",
   "execution_count": 1,
   "metadata": {},
   "outputs": [],
   "source": [
    "# 서포트 벡터 머신은 매우 강력하고 선형,비선형 분류, 회귀, 이상치 탐색에도 사용할 수 있는 다목적 머신러닝 모델이다.\n",
    "# SVM은 특히 복잡한 분류문제에 잘 들어맞으며 작거나 중간크기의 데이터 셋에 적합하다."
   ]
  },
  {
   "cell_type": "markdown",
   "metadata": {},
   "source": [
    "# 5-1 선형 SVM"
   ]
  },
  {
   "cell_type": "code",
   "execution_count": 2,
   "metadata": {},
   "outputs": [],
   "source": [
    "# 서포트 벡터 머신은 선형 모델에서 margin이 가장 많이 남는 것을 목적으로 하여 찾는다.\n",
    "# 스케일 되지 않으면 margin값에 영향을 많이 준다. 스케일링 필수\n",
    "# margin classification이 너무 하드하게 작용하면(정확하게 선형 분류를 시도하여 나누고 그 안의 margin에 그 어떤 데이터가 없게 끔) 이상치가 존재할 경우 일반화가 어렵다\n",
    "# 따라서 soft margin classification이 필요하다. 얼마나 soft한가는 하이퍼파라미터 C를 이용하여 조절할 수 있으며 값이 낮을수록 margin에 많은 데이터를 포함시킨다.(C가 낮으면 규제 강)"
   ]
  },
  {
   "cell_type": "code",
   "execution_count": 4,
   "metadata": {},
   "outputs": [],
   "source": [
    "import numpy as np\n",
    "from sklearn import datasets\n",
    "from sklearn.pipeline import Pipeline\n",
    "from sklearn.preprocessing import StandardScaler\n",
    "from sklearn.svm import LinearSVC\n",
    "import warnings\n",
    "warnings.filterwarnings(action='ignore')"
   ]
  },
  {
   "cell_type": "code",
   "execution_count": 5,
   "metadata": {},
   "outputs": [],
   "source": [
    "iris = datasets.load_iris()\n",
    "X = iris['data'][:,2:4]\n",
    "y = (iris['target'] == 2).astype(np.float64)\n",
    "\n",
    "pipe = Pipeline([\n",
    "    ('scaler',StandardScaler()),\n",
    "    ('linear_scv',LinearSVC(C=1,loss='hinge'))\n",
    "])"
   ]
  },
  {
   "cell_type": "code",
   "execution_count": 6,
   "metadata": {},
   "outputs": [
    {
     "data": {
      "text/plain": [
       "Pipeline(steps=[('scaler', StandardScaler()),\n",
       "                ('linear_scv', LinearSVC(C=1, loss='hinge'))])"
      ]
     },
     "execution_count": 6,
     "metadata": {},
     "output_type": "execute_result"
    }
   ],
   "source": [
    "pipe.fit(X,y)"
   ]
  },
  {
   "cell_type": "code",
   "execution_count": 7,
   "metadata": {},
   "outputs": [
    {
     "data": {
      "text/plain": [
       "array([1.])"
      ]
     },
     "execution_count": 7,
     "metadata": {},
     "output_type": "execute_result"
    }
   ],
   "source": [
    "pipe.predict([[5.5, 1.7]])"
   ]
  },
  {
   "cell_type": "markdown",
   "metadata": {},
   "source": [
    "# 5-2 비선형 SVM"
   ]
  },
  {
   "cell_type": "code",
   "execution_count": 8,
   "metadata": {},
   "outputs": [],
   "source": [
    "# 선형 SVM 분류기가 효율적이고 많은 경우에 잘 작동하지만, 선형적으로 분류할 수 없는 데이터셋이 많다.\n",
    "# 이럴경우 다항특성을 추가해 구분하게 된다."
   ]
  },
  {
   "cell_type": "code",
   "execution_count": 62,
   "metadata": {},
   "outputs": [
    {
     "data": {
      "text/plain": [
       "Pipeline(steps=[('poly_features', PolynomialFeatures(degree=3)),\n",
       "                ('scaler', StandardScaler()),\n",
       "                ('svm_clf', LinearSVC(C=10, loss='hinge'))])"
      ]
     },
     "execution_count": 62,
     "metadata": {},
     "output_type": "execute_result"
    }
   ],
   "source": [
    "from sklearn.datasets import make_moons\n",
    "from sklearn.pipeline import Pipeline\n",
    "from sklearn.preprocessing import PolynomialFeatures\n",
    "\n",
    "X,y = make_moons(n_samples=100,noise = 0.15)\n",
    "pipe = Pipeline([\n",
    "    ('poly_features',PolynomialFeatures(degree=3)),\n",
    "    ('scaler',StandardScaler()),\n",
    "    ('svm_clf',LinearSVC(C=10,loss='hinge'))\n",
    "])\n",
    "\n",
    "pipe.fit(X,y)"
   ]
  },
  {
   "cell_type": "code",
   "execution_count": 82,
   "metadata": {},
   "outputs": [
    {
     "data": {
      "image/png": "[encoded data removed]",
      "text/plain": [
       "<Figure size 1080x432 with 2 Axes>"
      ]
     },
     "metadata": {
      "needs_background": "light"
     },
     "output_type": "display_data"
    }
   ],
   "source": [
    "True1 = []\n",
    "False1 = []\n",
    "for i,v in enumerate(y):\n",
    "    if v == 1:\n",
    "        True1.append(i)\n",
    "    elif v == 0:\n",
    "        False1.append(i)\n",
    "\n",
    "import matplotlib.pyplot as plt\n",
    "fig = plt.figure(figsize=(15, 6)) \n",
    "plt.subplot(121).scatter(X[:,0],X[:,1])\n",
    "for i in True1:\n",
    "    plt.subplot(122).scatter(X[i,0],X[i,1],c = 'r')\n",
    "for i in False1:\n",
    "    plt.subplot(122).scatter(X[i,0],X[i,1],c = 'b')\n",
    "plt.show()"
   ]
  },
  {
   "cell_type": "markdown",
   "metadata": {},
   "source": [
    "## 5-2-1 다항식 커널"
   ]
  },
  {
   "cell_type": "code",
   "execution_count": 86,
   "metadata": {},
   "outputs": [],
   "source": [
    "# 다항식 트성을 추가하는 것은 간단하고 모든 알고리즘에서 잘 작동한다\n",
    "# 하지만 낮은 차수의 다항식은 매우 복잡한 데이터셋을 잘 표현하지 못하고 높은 차수의 다항식은 굉장히 많은 특성을 추가해 느리게한다\n",
    "# 이럴 때 커널 트릭이라는 수학적 트릭을 사용하게 된다\n",
    "# 커널 트릭은 실제로는 특성을 추가하지 않으면서 다항식 특성을 추가한 것과 같은 결과를 얻을 수 있다."
   ]
  },
  {
   "cell_type": "code",
   "execution_count": 93,
   "metadata": {},
   "outputs": [
    {
     "data": {
      "text/plain": [
       "Pipeline(steps=[('scaler', StandardScaler()),\n",
       "                ('svm_clf', SVC(C=5, coef0=1, kernel='poly'))])"
      ]
     },
     "execution_count": 93,
     "metadata": {},
     "output_type": "execute_result"
    }
   ],
   "source": [
    "# 이 코드는 3차 다항식 커널을 사용해 SVM 분류기를 훈련시킨다. \n",
    "from sklearn.svm import SVC\n",
    "poly_kernel_svm = Pipeline([\n",
    "    ('scaler',StandardScaler()),\n",
    "    ('svm_clf',SVC(kernel='poly',degree=3,coef0=1,C=5))\n",
    "    ])\n",
    "poly_kernel_svm.fit(X,y)"
   ]
  },
  {
   "cell_type": "code",
   "execution_count": 94,
   "metadata": {},
   "outputs": [
    {
     "data": {
      "text/plain": [
       "0.99"
      ]
     },
     "execution_count": 94,
     "metadata": {},
     "output_type": "execute_result"
    }
   ],
   "source": [
    "poly_kernel_svm.score(X,y)"
   ]
  },
  {
   "cell_type": "markdown",
   "metadata": {},
   "source": [
    "## 5-2-2 유사도 특성"
   ]
  },
  {
   "cell_type": "code",
   "execution_count": 95,
   "metadata": {},
   "outputs": [],
   "source": [
    "# 비선형 특성을 또 다른 기법은 각 샘플이 특정 랜드마크와 얼마나 닮았는지 측정하는 유사도 함수로 계산한 특성을 추가하는 것이다.\n",
    "# "
   ]
  },
  {
   "cell_type": "code",
   "execution_count": null,
   "metadata": {},
   "outputs": [],
   "source": []
  }
 ],
 "metadata": {
  "kernelspec": {
   "display_name": "Python 3",
   "language": "python",
   "name": "python3"
  },
  "language_info": {
   "codemirror_mode": {
    "name": "ipython",
    "version": 3
   },
   "file_extension": ".py",
   "mimetype": "text/x-python",
   "name": "python",
   "nbconvert_exporter": "python",
   "pygments_lexer": "ipython3",
   "version": "3.7.9"
  }
 },
 "nbformat": 4,
 "nbformat_minor": 4
}
