{
 "cells": [
  {
   "cell_type": "code",
   "execution_count": 1,
   "metadata": {},
   "outputs": [],
   "source": [
    "# 많은 경우 구현의 상세 사항을 실제로 알아야 할 필요는 없다.\n",
    "# 하지만 어떻게 작동하는지 잘 이해하고 있으면 적절한 모델, 올바른 훈련 알고리즘, 작업에 맞는 좋은 하이퍼파라미터를 빠르게 찾을 수 있다.\n",
    "# 또한 작동 원리를 이해하고 있으면 디버깅이나 에러를 효율적으로 분석하는데 도움이 된다.\n",
    "# 선형회귀와 관련된 알고리즘(Logistic Regression, SoftMax Regression까지)들은 신경망을 이해하고 구축하는데 필수적인 내용이다."
   ]
  },
  {
   "cell_type": "markdown",
   "metadata": {},
   "source": [
    "# 4-1 선형회귀"
   ]
  },
  {
   "cell_type": "code",
   "execution_count": 7,
   "metadata": {},
   "outputs": [],
   "source": [
    "# 일반적으로 선형모델은 입력 특성의 가중치 합과 편향(=절편)이라는 상수를 더해 예측을 만든다\n",
    "# 가설함수 h(x) = w0 + w1*x1 + w2*x2 + ... + xnxn\n",
    "# h(x)는 예측값, n은 특성 수, w는 특성의 가중치(모델 파라미터)이다.\n",
    "\n",
    "# 회귀에서 가장 널리 사용되는 성능 지표는 평균 제곱근 오차(RMSE)이다.\n",
    "#  == MSE가 최소가 되는 가중치 값을 찾아도 같다.\n",
    "\n",
    "# 선형회귀 모델의 MSE 비용함수는 전체에 대한 제곱이다. 이는 convex function 를 뜻하며 미분을 했을 때 0이 나오면 이를 최솟값이라고 할 수 있다.\n",
    "# 가중치 벡터들을 구하는 정규방정식은 inv(X.T.dot(X)).dot(X.T.dot(y))이다.\n",
    "# X는 특성에 대한 독립변수들의 벡터를 의미하고, y는 각 샘플들의 입력값에 대한 예측값 벡터이다."
   ]
  },
  {
   "cell_type": "code",
   "execution_count": 8,
   "metadata": {},
   "outputs": [],
   "source": [
    "import numpy as np\n",
    "X = 2 * np.random.rand(100,1)\n",
    "y = 4 + 3 * X + np.random.randn(100,1)"
   ]
  },
  {
   "cell_type": "code",
   "execution_count": 18,
   "metadata": {},
   "outputs": [
    {
     "data": {
      "text/plain": [
       "<matplotlib.collections.PathCollection at 0x7ffd925a6d68>"
      ]
     },
     "execution_count": 18,
     "metadata": {},
     "output_type": "execute_result"
    },
    {
     "data": {
      "image/png": "[encoded data removed]",
      "text/plain": [
       "<Figure size 432x288 with 1 Axes>"
      ]
     },
     "metadata": {
      "needs_background": "light"
     },
     "output_type": "display_data"
    }
   ],
   "source": [
    "import matplotlib.pyplot as plt\n",
    "plt.scatter(X,y)"
   ]
  },
  {
   "cell_type": "code",
   "execution_count": 19,
   "metadata": {},
   "outputs": [],
   "source": [
    "X_b = np.c_[np.ones((100,1)),X]\n",
    "theta_best = np.linalg.inv(X_b.T.dot(X_b)).dot(X_b.T).dot(y)"
   ]
  },
  {
   "cell_type": "code",
   "execution_count": 20,
   "metadata": {},
   "outputs": [
    {
     "data": {
      "text/plain": [
       "array([[4.21530551],\n",
       "       [2.91784145]])"
      ]
     },
     "execution_count": 20,
     "metadata": {},
     "output_type": "execute_result"
    }
   ],
   "source": [
    "theta_best"
   ]
  },
  {
   "cell_type": "code",
   "execution_count": 23,
   "metadata": {},
   "outputs": [
    {
     "data": {
      "text/plain": [
       "[<matplotlib.lines.Line2D at 0x7ffd936975c0>]"
      ]
     },
     "execution_count": 23,
     "metadata": {},
     "output_type": "execute_result"
    },
    {
     "data": {
      "image/png": "[encoded data removed]",
      "text/plain": [
       "<Figure size 432x288 with 1 Axes>"
      ]
     },
     "metadata": {
      "needs_background": "light"
     },
     "output_type": "display_data"
    }
   ],
   "source": [
    "plt.scatter(X,y)\n",
    "X_a = np.linspace(0,2,1000)\n",
    "plt.plot(X_a,X_a * 4.2153 + 2.91784,c='r')"
   ]
  },
  {
   "cell_type": "markdown",
   "metadata": {},
   "source": [
    "### 위 정규방정식을 따라 풀면 계수 4.2143, 절편 2.917 값이 나오는 것을 확인할 수 있다.\n",
    "### 우리는 y에 대한 식을 y = 3x + 4 로 했는데 잡음으로 인해 정확하게 예측하진 못했지만 유사한 값을 얻었다"
   ]
  },
  {
   "cell_type": "code",
   "execution_count": 26,
   "metadata": {},
   "outputs": [
    {
     "data": {
      "text/plain": [
       "LinearRegression()"
      ]
     },
     "execution_count": 26,
     "metadata": {},
     "output_type": "execute_result"
    }
   ],
   "source": [
    "# 사이킷런에서 선형 회귀 실행\n",
    "# 사이킷런에서 LinearRegression 은 계산을 할 때, 유사역행렬을 구한다.(역행렬이 없다면 작동하지않는 오류해결 또한 극단적인 경우도 처리할 수 있게 효율적인 방법이다)\n",
    "from sklearn.linear_model import LinearRegression\n",
    "LR = LinearRegression()\n",
    "LR.fit(X,y)"
   ]
  },
  {
   "cell_type": "code",
   "execution_count": 27,
   "metadata": {},
   "outputs": [
    {
     "name": "stdout",
     "output_type": "stream",
     "text": [
      "X 계수 :  [[2.91784145]]\n",
      "y 절편 :  [4.21530551]\n"
     ]
    }
   ],
   "source": [
    "print('X 계수 : ',LR.coef_)\n",
    "print('y 절편 : ',LR.intercept_)"
   ]
  },
  {
   "cell_type": "code",
   "execution_count": 33,
   "metadata": {},
   "outputs": [
    {
     "data": {
      "text/plain": [
       "array([[8.65917804]])"
      ]
     },
     "execution_count": 33,
     "metadata": {},
     "output_type": "execute_result"
    }
   ],
   "source": [
    "# x 변수가  1.523 값을 가진다면 이 선형모델은 8.65917을 예측하는 것을 확인할 수 있다.\n",
    "ex1 = np.array([1.523])\n",
    "LR.predict(ex1.reshape(-1,1))"
   ]
  },
  {
   "cell_type": "code",
   "execution_count": 36,
   "metadata": {},
   "outputs": [],
   "source": [
    "# 정규방정식은 O(n**2.4) ~ O(n**3) 사이의 계산 복잡도를 가진다.\n",
    "# 사이킷런의 방식으로 계산하면 O(n**2) 의 계산 복잡도를 가진다.\n",
    "# 특성의 개수가 늘어나면 효율적으로 처리 할 수 없다.\n",
    "# 하지만 예측은 매우 빠르다."
   ]
  },
  {
   "cell_type": "markdown",
   "metadata": {},
   "source": [
    "# 4-2 경사 하강법(Gredient Descent)"
   ]
  },
  {
   "cell_type": "code",
   "execution_count": 37,
   "metadata": {},
   "outputs": [],
   "source": [
    "# 여러종류의 문제에서 최적의 해법을 찾을 수 있는 일반적인 최적화 알고리즘이다.\n",
    "# 경사하강법의 기본 아이디어는 비용 함수를 최소화 하기 위해 반복해서 파라미터를 조절해가는 것이다."
   ]
  },
  {
   "cell_type": "code",
   "execution_count": 38,
   "metadata": {},
   "outputs": [],
   "source": [
    "# 현재의 descent를 계산하고 우리가 정하게 되는 학습률에 따른 descent를 계산 한 후 감소하는 방향으로 진행한다.\n",
    "# 기울기가 0이 되면 최솟값에 도달한다.\n",
    "# 학습률은 하이퍼파리미터 값으로 정하게 되며, 적절한 값을 정하지 않으면 반대편으로 건너뛰어 발산하게 될 수 도 있다.\n",
    "# 경사하강법의 개념은 선형모델에 맞춰진 것이 아니라 다양한 알고리즘에서 사용되는데, 적어도 선형 회귀를 위한 MSE 비용함수는 Convex 하기 때문에 지역최솟값에 수렴하는 일이 없다.(항상 전역최솟값)\n",
    "# Gredient Descent 반드시 모든 특성이 같은 스케일을 갖도록 scaling이 필수"
   ]
  },
  {
   "cell_type": "markdown",
   "metadata": {},
   "source": [
    "## 4-2-1 배치 경사 하강법"
   ]
  },
  {
   "cell_type": "code",
   "execution_count": 39,
   "metadata": {},
   "outputs": [],
   "source": [
    "# 각 특성(feature)의 가중치에 대한 Gredient Descent 를 계산해야한다. \n",
    "# 각 가중치에 대한 편미분 식을 구한다.\n",
    "# 배치 경사 하강법은 한번의 스텝에서 훈련 데이터 전체를 사용한다.\n",
    "# 매우 큰 데이터에 대해 아주 느리다.\n",
    "# 특성이 매우 많은 경우에는 유리한데, 정규방정식, SVD 분해보다 경사하강법이 훨씬 더 빠르다."
   ]
  },
  {
   "cell_type": "code",
   "execution_count": null,
   "metadata": {},
   "outputs": [],
   "source": [
    "eta = 0.1\n",
    "n_iterations = 1000\n",
    "m = 100\n",
    "\n",
    "theta = np.random.randn(2,1)\n",
    "\n",
    "for iteration in range(n_iterations):\n",
    "    gradients = 2/m * X_b.T.dot(X_)"
   ]
  }
 ],
 "metadata": {
  "kernelspec": {
   "display_name": "Python 3",
   "language": "python",
   "name": "python3"
  },
  "language_info": {
   "codemirror_mode": {
    "name": "ipython",
    "version": 3
   },
   "file_extension": ".py",
   "mimetype": "text/x-python",
   "name": "python",
   "nbconvert_exporter": "python",
   "pygments_lexer": "ipython3",
   "version": "3.6.10"
  }
 },
 "nbformat": 4,
 "nbformat_minor": 4
}
