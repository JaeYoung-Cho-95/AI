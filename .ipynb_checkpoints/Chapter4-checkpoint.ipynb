{
 "cells": [
  {
   "cell_type": "code",
   "execution_count": 1,
   "metadata": {},
   "outputs": [],
   "source": [
    "# 많은 경우 구현의 상세 사항을 실제로 알아야 할 필요는 없다.\n",
    "# 하지만 어떻게 작동하는지 잘 이해하고 있으면 적절한 모델, 올바른 훈련 알고리즘, 작업에 맞는 좋은 하이퍼파라미터를 빠르게 찾을 수 있다.\n",
    "# 또한 작동 원리를 이해하고 있으면 디버깅이나 에러를 효율적으로 분석하는데 도움이 된다.\n",
    "# 선형회귀와 관련된 알고리즘(Logistic Regression, SoftMax Regression까지)들은 신경망을 이해하고 구축하는데 필수적인 내용이다.\n",
    "\n",
    "# cf. sklearn에 있는 linear 모듈은 기본적으로 two dimension만 들어간다."
   ]
  },
  {
   "cell_type": "code",
   "execution_count": 2,
   "metadata": {},
   "outputs": [],
   "source": [
    "import numpy as np\n",
    "import pandas as pd\n",
    "import matplotlib.pyplot as plt\n",
    "import warnings\n",
    "warnings.filterwarnings(action='ignore')\n",
    "%matplotlib inline"
   ]
  },
  {
   "cell_type": "markdown",
   "metadata": {},
   "source": [
    "#### 공부 전 참고\n",
    "> np.random.randint(x,y)\n",
    " : x~y 사이의 임의의 수 한 개 추출\n",
    " \n",
    "> np.random.rand(x,y)\n",
    " : 0~1사이값들을 균일분포 난수를 x*y matrix로 생성\n",
    " \n",
    "> np.random.randn(x,y)\n",
    " : 평균이0, 표준편차가1 인 표준정규분포 난수를 x*y matrix로 생성"
   ]
  },
  {
   "cell_type": "code",
   "execution_count": 3,
   "metadata": {},
   "outputs": [
    {
     "data": {
      "text/plain": [
       "13"
      ]
     },
     "execution_count": 3,
     "metadata": {},
     "output_type": "execute_result"
    }
   ],
   "source": [
    "x = np.random.randint(10,20)\n",
    "x"
   ]
  },
  {
   "cell_type": "code",
   "execution_count": 4,
   "metadata": {},
   "outputs": [
    {
     "data": {
      "text/plain": [
       "(array([106., 125., 107., 102., 105.,  93.,  79., 111.,  89.,  83.]),\n",
       " array([0.00327454, 0.10285902, 0.20244349, 0.30202797, 0.40161245,\n",
       "        0.50119693, 0.60078141, 0.70036588, 0.79995036, 0.89953484,\n",
       "        0.99911932]),\n",
       " <BarContainer object of 10 artists>)"
      ]
     },
     "execution_count": 4,
     "metadata": {},
     "output_type": "execute_result"
    },
    {
     "data": {
      "image/png": "[encoded data removed]",
      "text/plain": [
       "<Figure size 432x288 with 1 Axes>"
      ]
     },
     "metadata": {
      "needs_background": "light"
     },
     "output_type": "display_data"
    }
   ],
   "source": [
    "x = np.linspace(0,1,1000)\n",
    "y = np.random.rand(1000,1)\n",
    "plt.hist(y)"
   ]
  },
  {
   "cell_type": "code",
   "execution_count": 5,
   "metadata": {},
   "outputs": [
    {
     "data": {
      "text/plain": [
       "(1000, 1)"
      ]
     },
     "execution_count": 5,
     "metadata": {},
     "output_type": "execute_result"
    }
   ],
   "source": [
    "y.shape"
   ]
  },
  {
   "cell_type": "code",
   "execution_count": 6,
   "metadata": {},
   "outputs": [
    {
     "data": {
      "text/plain": [
       "(array([4.0000e+00, 1.9600e+02, 2.0370e+03, 1.0716e+04, 2.6863e+04,\n",
       "        3.3278e+04, 2.0043e+04, 5.9160e+03, 8.8200e+02, 6.5000e+01]),\n",
       " array([-4.61750991, -3.74672464, -2.87593936, -2.00515408, -1.13436881,\n",
       "        -0.26358353,  0.60720175,  1.47798703,  2.3487723 ,  3.21955758,\n",
       "         4.09034286]),\n",
       " <BarContainer object of 10 artists>)"
      ]
     },
     "execution_count": 6,
     "metadata": {},
     "output_type": "execute_result"
    },
    {
     "data": {
      "image/png": "[encoded data removed]",
      "text/plain": [
       "<Figure size 432x288 with 1 Axes>"
      ]
     },
     "metadata": {
      "needs_background": "light"
     },
     "output_type": "display_data"
    }
   ],
   "source": [
    "x = np.linspace(-10,10,100)\n",
    "y = np.random.randn(100000,)\n",
    "plt.hist(y)"
   ]
  },
  {
   "cell_type": "markdown",
   "metadata": {},
   "source": [
    "# 4-1 선형회귀"
   ]
  },
  {
   "cell_type": "code",
   "execution_count": 7,
   "metadata": {},
   "outputs": [],
   "source": [
    "# 일반적으로 선형모델은 입력 특성의 가중치 합과 편향(=절편)이라는 상수를 더해 예측을 만든다\n",
    "# 가설함수 h(x) = w0 + w1*x1 + w2*x2 + ... + xnxn\n",
    "# h(x)는 예측값, n은 특성 수, w는 특성의 가중치(모델 파라미터)이다.\n",
    "\n",
    "# 회귀에서 가장 널리 사용되는 성능 지표는 평균 제곱근 오차(RMSE)이다.\n",
    "#  == MSE가 최소가 되는 가중치 값을 찾아도 같다.\n",
    "\n",
    "# 선형회귀 모델의 MSE 비용함수는 전체에 대한 제곱이다. 이는 convex function 를 뜻하며 미분을 했을 때 0이 나오면 이를 최솟값이라고 할 수 있다.\n",
    "# 가중치 벡터들을 구하는 정규방정식은 inv(X.T.dot(X)).dot(X.T.dot(y))이다.\n",
    "# X는 특성에 대한 독립변수들의 벡터를 의미하고, y는 각 샘플들의 입력값에 대한 예측값 벡터이다."
   ]
  },
  {
   "cell_type": "code",
   "execution_count": 8,
   "metadata": {},
   "outputs": [],
   "source": [
    "import numpy as np\n",
    "X = 2 * np.random.rand(100,1)\n",
    "y = 4 + 3 * X + np.random.randn(100,1)"
   ]
  },
  {
   "cell_type": "code",
   "execution_count": 9,
   "metadata": {},
   "outputs": [
    {
     "data": {
      "text/plain": [
       "<matplotlib.collections.PathCollection at 0x7fe5fb586550>"
      ]
     },
     "execution_count": 9,
     "metadata": {},
     "output_type": "execute_result"
    },
    {
     "data": {
      "image/png": "[encoded data removed]",
      "text/plain": [
       "<Figure size 432x288 with 1 Axes>"
      ]
     },
     "metadata": {
      "needs_background": "light"
     },
     "output_type": "display_data"
    }
   ],
   "source": [
    "import matplotlib.pyplot as plt\n",
    "plt.scatter(X,y)"
   ]
  },
  {
   "cell_type": "code",
   "execution_count": 10,
   "metadata": {},
   "outputs": [],
   "source": [
    "X_b = np.c_[np.ones((100,1)),X]\n",
    "theta_best = np.linalg.inv(X_b.T.dot(X_b)).dot(X_b.T).dot(y)"
   ]
  },
  {
   "cell_type": "code",
   "execution_count": 11,
   "metadata": {},
   "outputs": [
    {
     "data": {
      "text/plain": [
       "array([[3.81978519],\n",
       "       [3.33618438]])"
      ]
     },
     "execution_count": 11,
     "metadata": {},
     "output_type": "execute_result"
    }
   ],
   "source": [
    "theta_best"
   ]
  },
  {
   "cell_type": "code",
   "execution_count": 12,
   "metadata": {},
   "outputs": [
    {
     "data": {
      "text/plain": [
       "[<matplotlib.lines.Line2D at 0x7fe5faeba7d0>]"
      ]
     },
     "execution_count": 12,
     "metadata": {},
     "output_type": "execute_result"
    },
    {
     "data": {
      "image/png": "[encoded data removed]",
      "text/plain": [
       "<Figure size 432x288 with 1 Axes>"
      ]
     },
     "metadata": {
      "needs_background": "light"
     },
     "output_type": "display_data"
    }
   ],
   "source": [
    "plt.scatter(X,y)\n",
    "X_a = np.linspace(0,2,1000)\n",
    "plt.plot(X_a,X_a * 4.2153 + 2.91784,c='r')"
   ]
  },
  {
   "cell_type": "markdown",
   "metadata": {},
   "source": [
    "### 위 정규방정식을 따라 풀면 계수와 절편 값이 우리가 설정한 값과 비슷하게 나오는 것을 확인할 수 있다.\n",
    "### 우리는 y에 대한 식을 y = 3x + 4 로 했는데 잡음으로 인해 정확하게 예측하진 못했지만 유사한 값을 얻었다"
   ]
  },
  {
   "cell_type": "code",
   "execution_count": 13,
   "metadata": {},
   "outputs": [
    {
     "data": {
      "text/plain": [
       "LinearRegression()"
      ]
     },
     "execution_count": 13,
     "metadata": {},
     "output_type": "execute_result"
    }
   ],
   "source": [
    "# 사이킷런에서 선형 회귀 실행\n",
    "# 사이킷런에서 LinearRegression 은 계산을 할 때, 유사역행렬을 구한다.(역행렬이 없다면 작동하지않는 오류해결 또한 극단적인 경우도 처리할 수 있게 효율적인 방법이다)\n",
    "from sklearn.linear_model import LinearRegression\n",
    "LR = LinearRegression()\n",
    "LR.fit(X,y)"
   ]
  },
  {
   "cell_type": "code",
   "execution_count": 14,
   "metadata": {},
   "outputs": [
    {
     "name": "stdout",
     "output_type": "stream",
     "text": [
      "X 계수 :  [[3.33618438]]\n",
      "y 절편 :  [3.81978519]\n"
     ]
    }
   ],
   "source": [
    "print('X 계수 : ',LR.coef_)\n",
    "print('y 절편 : ',LR.intercept_)"
   ]
  },
  {
   "cell_type": "code",
   "execution_count": 15,
   "metadata": {},
   "outputs": [
    {
     "data": {
      "text/plain": [
       "array([[8.90079401]])"
      ]
     },
     "execution_count": 15,
     "metadata": {},
     "output_type": "execute_result"
    }
   ],
   "source": [
    "# x 변수가  1.523 값을 가진다면 이 선형모델은 8.65917을 예측하는 것을 확인할 수 있다.\n",
    "ex1 = np.array([1.523])\n",
    "LR.predict(ex1.reshape(-1,1))"
   ]
  },
  {
   "cell_type": "code",
   "execution_count": 16,
   "metadata": {},
   "outputs": [],
   "source": [
    "# 정규방정식은 O(n**2.4) ~ O(n**3) 사이의 계산 복잡도를 가진다.\n",
    "# 사이킷런의 방식으로 계산하면 O(n**2) 의 계산 복잡도를 가진다.\n",
    "# 특성의 개수가 늘어나면 효율적으로 처리 할 수 없다.\n",
    "# 하지만 예측은 매우 빠르다."
   ]
  },
  {
   "cell_type": "markdown",
   "metadata": {},
   "source": [
    "# 4-2 경사 하강법(Gredient Descent)"
   ]
  },
  {
   "cell_type": "code",
   "execution_count": 17,
   "metadata": {},
   "outputs": [],
   "source": [
    "# 여러종류의 문제에서 최적의 해법을 찾을 수 있는 일반적인 최적화 알고리즘이다.\n",
    "# 경사하강법의 기본 아이디어는 비용 함수를 최소화 하기 위해 반복해서 파라미터를 조절해가는 것이다."
   ]
  },
  {
   "cell_type": "code",
   "execution_count": 18,
   "metadata": {},
   "outputs": [],
   "source": [
    "# 현재의 descent를 계산하고 우리가 정하게 되는 학습률에 따른 descent를 계산 한 후 감소하는 방향으로 진행한다.\n",
    "# 기울기가 0이 되면 최솟값에 도달한다.\n",
    "# 학습률은 하이퍼파리미터 값으로 정하게 되며, 적절한 값을 정하지 않으면 반대편으로 건너뛰어 발산하게 될 수 도 있다.\n",
    "# 경사하강법의 개념은 선형모델에 맞춰진 것이 아니라 다양한 알고리즘에서 사용되는데, 적어도 선형 회귀를 위한 MSE 비용함수는 Convex 하기 때문에 지역최솟값에 수렴하는 일이 없다.(항상 전역최솟값)\n",
    "# Gredient Descent 반드시 모든 특성이 같은 스케일을 갖도록 scaling이 필수"
   ]
  },
  {
   "cell_type": "markdown",
   "metadata": {},
   "source": [
    "## 4-2-1 배치 경사 하강법"
   ]
  },
  {
   "cell_type": "code",
   "execution_count": 19,
   "metadata": {},
   "outputs": [],
   "source": [
    "# 각 특성(feature)의 가중치에 대한 Gredient Descent 를 계산해야한다. \n",
    "# 각 가중치에 대한 편미분 식을 구한다.\n",
    "# 배치 경사 하강법은 한번의 스텝에서 훈련 데이터 전체를 사용한다.\n",
    "# 매우 큰 데이터에 대해 아주 느리다.\n",
    "# 특성이 매우 많은 경우에는 유리한데, 정규방정식, SVD 분해보다 경사하강법이 훨씬 더 빠르다."
   ]
  },
  {
   "cell_type": "code",
   "execution_count": 20,
   "metadata": {},
   "outputs": [
    {
     "data": {
      "text/plain": [
       "array([[3.81978519],\n",
       "       [3.33618438]])"
      ]
     },
     "execution_count": 20,
     "metadata": {},
     "output_type": "execute_result"
    }
   ],
   "source": [
    "eta = 0.1\n",
    "n_iterations = 1000\n",
    "m = 100\n",
    "\n",
    "theta = np.random.randn(2,1)\n",
    "\n",
    "for iteration in range(n_iterations):\n",
    "    gradients = 2/m * X_b.T.dot(X_b.dot(theta) - y)\n",
    "    theta = theta - eta * gradients\n",
    "theta"
   ]
  },
  {
   "cell_type": "code",
   "execution_count": 21,
   "metadata": {},
   "outputs": [],
   "source": [
    "# 학습률이 너무 낮으면 최적점에 도달하는데 시간이 오래걸린다\n",
    "# 학습률이 너무 크면 최적점을 넘어간 후 발산해 버린다.\n",
    "# 경사 하강법의 반복횟수는 아주 크게 지정하고 벡터의 노름이 어떤 값(오차)보다 작아지면 최솟값에 도달한 것으로 가정하고 종료시키는 것이 좋다."
   ]
  },
  {
   "cell_type": "markdown",
   "metadata": {},
   "source": [
    "## 4-2-2 확률적 경사 하강법"
   ]
  },
  {
   "cell_type": "code",
   "execution_count": 22,
   "metadata": {},
   "outputs": [],
   "source": [
    "# 배치 경사 하강법의 문제점은 전체 훈련 세트를 사용해 기울기를 계산한다는 것이다.(훈련 세트가 커지면 매우 느려지게 된다.)\n",
    "# Stochastic Gredient Descent 는 매 스텝에서 한 개의 샘플을 무작위로 선택하고 그 하나의 샘플에 대한 그레디언트를 계산\n",
    "# 알고리즘이 훨씬 빠르다. 하지만 확률적(무작위)이기 때문에 최솟값까지 부드럽게 감소하지않고 위아래로 요동치며 감소한다.\n",
    "# 시간이 지나면 최솟값에 매우 근접하지만 이게 반드시 최적치는 아닐 수 있다.\n",
    "# 최적치가 아닐 수 있는 것에 대한 딜레마의 해결법은 학습률을 점진적으로 감소시켜주는 것이다.\n",
    "# 비용함수가 불안정할때 이 알고리즘은 지역최솟값을 건더뛰도록 도와줄 수 있다."
   ]
  },
  {
   "cell_type": "code",
   "execution_count": 23,
   "metadata": {},
   "outputs": [
    {
     "name": "stdout",
     "output_type": "stream",
     "text": [
      "[[3.87213668]\n",
      " [3.33587546]]\n"
     ]
    }
   ],
   "source": [
    "n_epochs = 50\n",
    "t0, t1 = 5,50\n",
    "m = 100\n",
    "\n",
    "def learning_schedule(t):\n",
    "    return t0 / (t + t1)\n",
    "\n",
    "theta = np.random.randn(2,1)\n",
    "\n",
    "for epochs in range(n_epochs):\n",
    "    for i in range(m):\n",
    "        random_index = np.random.randint(m)\n",
    "        xi = X_b[random_index:random_index+1]\n",
    "        yi = y[random_index:random_index+1]\n",
    "        gradients = 2 * xi.T.dot(xi.dot(theta) - yi)\n",
    "        eta = learning_schedule(epochs*m + i)\n",
    "        theta = theta - eta * gradients\n",
    "print(theta)"
   ]
  },
  {
   "cell_type": "code",
   "execution_count": 24,
   "metadata": {},
   "outputs": [
    {
     "data": {
      "text/plain": [
       "SGDRegressor(eta0=0.1, penalty=None)"
      ]
     },
     "execution_count": 24,
     "metadata": {},
     "output_type": "execute_result"
    }
   ],
   "source": [
    "from sklearn.linear_model import SGDRegressor\n",
    "sgd = SGDRegressor(max_iter=1000,tol = 1e-3, penalty=None, eta0=0.1)\n",
    "sgd.fit(X,y.ravel())"
   ]
  },
  {
   "cell_type": "code",
   "execution_count": 25,
   "metadata": {},
   "outputs": [
    {
     "data": {
      "text/plain": [
       "array([3.37985464])"
      ]
     },
     "execution_count": 25,
     "metadata": {},
     "output_type": "execute_result"
    }
   ],
   "source": [
    "sgd.coef_"
   ]
  },
  {
   "cell_type": "code",
   "execution_count": 26,
   "metadata": {},
   "outputs": [
    {
     "data": {
      "text/plain": [
       "array([3.86727211])"
      ]
     },
     "execution_count": 26,
     "metadata": {},
     "output_type": "execute_result"
    }
   ],
   "source": [
    "sgd.intercept_"
   ]
  },
  {
   "cell_type": "markdown",
   "metadata": {},
   "source": [
    "# 4-3 다항 회귀"
   ]
  },
  {
   "cell_type": "code",
   "execution_count": 27,
   "metadata": {},
   "outputs": [],
   "source": [
    "# 우리는 경우에 따라 항상 직선의 형태를 띄는 linear model을 만들 수 없다.\n",
    "# 예를 들어, 집세를 예측하는데 단순히 밑변과 높이에 대한 데이터에 대해 각각 linear model을 만드는 것보다 두 가지를 곱해 polynomial 회귀를 할 수 있다.\n",
    "# sklearn 에서는 preprocessing.PolynomialFeatures로 지원하고 있다."
   ]
  },
  {
   "cell_type": "code",
   "execution_count": 28,
   "metadata": {},
   "outputs": [],
   "source": [
    "import numpy as np"
   ]
  },
  {
   "cell_type": "code",
   "execution_count": 29,
   "metadata": {},
   "outputs": [],
   "source": [
    "def f(size):\n",
    "    x = np.linspace(0,5,size)\n",
    "    y = x * np.sin(x ** 2) + 1\n",
    "    return (x,y)\n",
    "# y = x * sin(x**2) + 1\n",
    "\n",
    "def sample(size):\n",
    "    x = np.linspace(0,5,size)\n",
    "    y = x * np.sin(x **2) + 1 + np.random.randn(x.size) * 0.5\n",
    "    return (x,y)"
   ]
  },
  {
   "cell_type": "code",
   "execution_count": 30,
   "metadata": {},
   "outputs": [
    {
     "data": {
      "text/plain": [
       "<function matplotlib.pyplot.show(close=None, block=None)>"
      ]
     },
     "execution_count": 30,
     "metadata": {},
     "output_type": "execute_result"
    },
    {
     "data": {
      "image/png": "[encoded data removed]",
      "text/plain": [
       "<Figure size 432x288 with 1 Axes>"
      ]
     },
     "metadata": {
      "needs_background": "light"
     },
     "output_type": "display_data"
    }
   ],
   "source": [
    "import matplotlib.pyplot as plt\n",
    "f_x, f_y = f(1000)\n",
    "plt.plot(f_x,f_y,c='r') # 선 긋기\n",
    "X,y = sample(1000)\n",
    "plt.scatter(X,y,s = 3,c = 'black') # X,y 그래프 랜덤으로 scatter plot 찍기\n",
    "plt.show"
   ]
  },
  {
   "cell_type": "code",
   "execution_count": 31,
   "metadata": {},
   "outputs": [],
   "source": [
    "X = X.reshape(-1,1)\n",
    "y = y.reshape(-1,1)"
   ]
  },
  {
   "cell_type": "code",
   "execution_count": 32,
   "metadata": {},
   "outputs": [
    {
     "data": {
      "text/plain": [
       "LinearRegression()"
      ]
     },
     "execution_count": 32,
     "metadata": {},
     "output_type": "execute_result"
    }
   ],
   "source": [
    "from sklearn.linear_model import LinearRegression\n",
    "LR = LinearRegression()\n",
    "LR.fit(X,y)"
   ]
  },
  {
   "cell_type": "code",
   "execution_count": 33,
   "metadata": {},
   "outputs": [
    {
     "data": {
      "image/png": "[encoded data removed]",
      "text/plain": [
       "<Figure size 432x288 with 1 Axes>"
      ]
     },
     "metadata": {
      "needs_background": "light"
     },
     "output_type": "display_data"
    }
   ],
   "source": [
    "plt.scatter(X.flatten(),y.flatten(),s = 3,c = 'black') # X,y 그래프 랜덤으로 scatter plot 찍기\n",
    "plt.plot(X.flatten(),LR.predict(X).flatten(), c = 'r')\n",
    "plt.show()"
   ]
  },
  {
   "cell_type": "code",
   "execution_count": 34,
   "metadata": {},
   "outputs": [],
   "source": [
    "from sklearn.preprocessing import PolynomialFeatures\n",
    "pf = PolynomialFeatures(degree=2)\n",
    "# 파라미터값은 degree와 interaction_only 두 개 조절\n",
    "# 이것을 했을 경우 자동으로 절편항을 추가해주기 때문에 나중에 linear model에 적용시킬 때 fit_intercept = False로 해줘야한다."
   ]
  },
  {
   "cell_type": "code",
   "execution_count": 35,
   "metadata": {},
   "outputs": [
    {
     "data": {
      "text/plain": [
       "array([[1.00000000e+00, 0.00000000e+00, 0.00000000e+00],\n",
       "       [1.00000000e+00, 5.00500501e-03, 2.50500751e-05],\n",
       "       [1.00000000e+00, 1.00100100e-02, 1.00200300e-04],\n",
       "       [1.00000000e+00, 1.50150150e-02, 2.25450676e-04],\n",
       "       [1.00000000e+00, 2.00200200e-02, 4.00801202e-04],\n",
       "       [1.00000000e+00, 2.50250250e-02, 6.26251878e-04],\n",
       "       [1.00000000e+00, 3.00300300e-02, 9.01802704e-04],\n",
       "       [1.00000000e+00, 3.50350350e-02, 1.22745368e-03],\n",
       "       [1.00000000e+00, 4.00400400e-02, 1.60320481e-03],\n",
       "       [1.00000000e+00, 4.50450450e-02, 2.02905608e-03]])"
      ]
     },
     "execution_count": 35,
     "metadata": {},
     "output_type": "execute_result"
    }
   ],
   "source": [
    "X_poly = pf.fit_transform(X)\n",
    "X_poly[:10]"
   ]
  },
  {
   "cell_type": "code",
   "execution_count": 36,
   "metadata": {},
   "outputs": [
    {
     "data": {
      "text/plain": [
       "LinearRegression(fit_intercept=False)"
      ]
     },
     "execution_count": 36,
     "metadata": {},
     "output_type": "execute_result"
    }
   ],
   "source": [
    "LR = LinearRegression(fit_intercept=False)\n",
    "LR.fit(X_poly,y)"
   ]
  },
  {
   "cell_type": "code",
   "execution_count": 37,
   "metadata": {},
   "outputs": [
    {
     "data": {
      "text/plain": [
       "[<matplotlib.lines.Line2D at 0x7fe5ff751850>]"
      ]
     },
     "execution_count": 37,
     "metadata": {},
     "output_type": "execute_result"
    },
    {
     "data": {
      "image/png": "[encoded data removed]",
      "text/plain": [
       "<Figure size 432x288 with 1 Axes>"
      ]
     },
     "metadata": {
      "needs_background": "light"
     },
     "output_type": "display_data"
    }
   ],
   "source": [
    "# X : 0~5까지 1000 등분한 각각의 값\n",
    "# y : 위 X의 값들을 x * np.sin(x **2) + 1 + np.random.randn(x.size) * 0.5 식에 넣은 랜덤한 값\n",
    "# X_poly : X값을 제곱한 값을 sklearn모듈을 통해 같은 차원의 배열에 추가한 값\n",
    "# LR.predict(X_poly) : 제곱이 포함된 X_poly값들을 통해 그려진 Polynomial 식에서 예측된 값\n",
    "plt.scatter(X.flatten(),y.flatten(),s = 3,c = 'black')\n",
    "plt.plot(X.flatten(),LR.predict(X_poly).flatten(),c = 'r')"
   ]
  },
  {
   "cell_type": "code",
   "execution_count": 38,
   "metadata": {},
   "outputs": [
    {
     "data": {
      "text/plain": [
       "[<matplotlib.lines.Line2D at 0x7fe6010905d0>]"
      ]
     },
     "execution_count": 38,
     "metadata": {},
     "output_type": "execute_result"
    },
    {
     "data": {
      "image/png": "[encoded data removed]",
      "text/plain": [
       "<Figure size 432x288 with 1 Axes>"
      ]
     },
     "metadata": {
      "needs_background": "light"
     },
     "output_type": "display_data"
    }
   ],
   "source": [
    "# 파라미터 search를 통해 실험적으로 알아가야함\n",
    "pf = PolynomialFeatures(degree=9)\n",
    "X_poly = pf.fit_transform(X)\n",
    "\n",
    "lr = LinearRegression(fit_intercept=False)\n",
    "lr.fit(X_poly,y)\n",
    "\n",
    "plt.scatter(X,y,s = 3,c = 'black')\n",
    "plt.plot(X.flatten(),lr.predict(X_poly).flatten(),c = 'r')"
   ]
  },
  {
   "cell_type": "code",
   "execution_count": 39,
   "metadata": {},
   "outputs": [
    {
     "data": {
      "text/plain": [
       "[<matplotlib.lines.Line2D at 0x7fe60116af50>]"
      ]
     },
     "execution_count": 39,
     "metadata": {},
     "output_type": "execute_result"
    },
    {
     "data": {
      "image/png": "[encoded data removed]",
      "text/plain": [
       "<Figure size 432x288 with 1 Axes>"
      ]
     },
     "metadata": {
      "needs_background": "light"
     },
     "output_type": "display_data"
    }
   ],
   "source": [
    "pf = PolynomialFeatures(degree=16)\n",
    "X_poly = pf.fit_transform(X)\n",
    "\n",
    "lr = LinearRegression(fit_intercept=False)\n",
    "lr.fit(X_poly,y)\n",
    "\n",
    "plt.scatter(X,y,s = 3,c = 'black')\n",
    "plt.plot(X.flatten(),lr.predict(X_poly).flatten(),c = 'r')"
   ]
  },
  {
   "cell_type": "code",
   "execution_count": 40,
   "metadata": {},
   "outputs": [],
   "source": [
    "def rmse(predictions,targets):\n",
    "    return np.sqrt(((predictions - targets) ** 2). mean())"
   ]
  },
  {
   "cell_type": "code",
   "execution_count": 41,
   "metadata": {},
   "outputs": [],
   "source": [
    "poly_range = list(range(10,50))\n",
    "rmse_lr_list = []\n",
    "rmse_lasso_list = []\n",
    "rmse_ridge_list = []\n",
    "\n",
    "from sklearn.linear_model import Lasso\n",
    "from sklearn.linear_model import Ridge\n",
    "\n",
    "for poly_value in poly_range:\n",
    "    poly_features = PolynomialFeatures(degree= poly_value)\n",
    "    X_poly = poly_features.fit_transform(X)\n",
    "    lr = LinearRegression(fit_intercept=False)\n",
    "    lr.fit(X_poly,y)\n",
    "    \n",
    "    rmse_lr_list.append(rmse(lr.predict(X_poly),y))\n",
    "    \n",
    "    lasso = Lasso(fit_intercept=False)\n",
    "    lasso.fit(X_poly,y)\n",
    "    rmse_lasso_list.append(rmse(lasso.predict(X_poly),y))\n",
    "    \n",
    "    ridge = Ridge(fit_intercept=False)\n",
    "    ridge.fit(X_poly,y)\n",
    "    rmse_ridge_list.append(rmse(ridge.predict(X_poly),y))"
   ]
  },
  {
   "cell_type": "code",
   "execution_count": 42,
   "metadata": {},
   "outputs": [
    {
     "data": {
      "text/plain": [
       "lr_rmse       0.532004\n",
       "lasso_rmse    2.262609\n",
       "ridge_rmse    0.513332\n",
       "dtype: float64"
      ]
     },
     "execution_count": 42,
     "metadata": {},
     "output_type": "execute_result"
    }
   ],
   "source": [
    "data = {'lr_rmse':rmse_lr_list,'lasso_rmse':rmse_lasso_list,'ridge_rmse':rmse_ridge_list}\n",
    "data = pd.DataFrame(data,index = poly_range)\n",
    "data.min()"
   ]
  },
  {
   "cell_type": "code",
   "execution_count": 43,
   "metadata": {},
   "outputs": [
    {
     "data": {
      "text/plain": [
       "23    0.513332\n",
       "22    0.516049\n",
       "21    0.613146\n",
       "20    0.752470\n",
       "19    0.761888\n",
       "Name: ridge_rmse, dtype: float64"
      ]
     },
     "execution_count": 43,
     "metadata": {},
     "output_type": "execute_result"
    }
   ],
   "source": [
    "data['ridge_rmse'].sort_values().head()"
   ]
  },
  {
   "cell_type": "code",
   "execution_count": 44,
   "metadata": {},
   "outputs": [
    {
     "data": {
      "text/plain": [
       "<matplotlib.collections.PathCollection at 0x7fe5e8772e50>"
      ]
     },
     "execution_count": 44,
     "metadata": {},
     "output_type": "execute_result"
    },
    {
     "data": {
      "image/png": "[encoded data removed]",
      "text/plain": [
       "<Figure size 432x288 with 1 Axes>"
      ]
     },
     "metadata": {
      "needs_background": "light"
     },
     "output_type": "display_data"
    }
   ],
   "source": [
    "from sklearn.linear_model import Ridge\n",
    "ridge = Ridge(fit_intercept=False)\n",
    "from sklearn.preprocessing import PolynomialFeatures\n",
    "poly = PolynomialFeatures(degree=22)\n",
    "X_poly = poly.fit_transform(X)\n",
    "ridge.fit(X_poly,y)\n",
    "plt.plot(X.flatten(),ridge.predict(X_poly), c = 'r')\n",
    "plt.scatter(X,y,s = 3, c = 'b')"
   ]
  },
  {
   "cell_type": "code",
   "execution_count": 45,
   "metadata": {},
   "outputs": [],
   "source": [
    "## 언제 사용하는가?\n",
    "# 한 개의 변수가 y값과 비선형적인 관계가 있다고 의심\n",
    "# 주기적인 패턴을 보일 때\n",
    "# 하지만 모델 자체가 복잡해지면 해결 가능한 부분이 많다 > SVM, Tree-based models\n",
    "# feature들을 제거할 때 실험적으로 하기 위해 할 수 있음"
   ]
  },
  {
   "cell_type": "markdown",
   "metadata": {},
   "source": [
    "# 4-4 선형모델의 규제"
   ]
  },
  {
   "cell_type": "markdown",
   "metadata": {},
   "source": [
    "## 4-4-1 릿지회귀"
   ]
  },
  {
   "cell_type": "code",
   "execution_count": 46,
   "metadata": {},
   "outputs": [],
   "source": [
    "# 선형모델에서 가중치의 값들에 대한 규제를 가하는 방식이다.\n",
    "# Norm2(유클리디안 거리)를 이용하여 규제를 가하게 되며, 기존 선형방정식의 비용함수 끝에 규제식을 붙인다.\n",
    "# 릿지회귀는 스케일에 민감하기 때문에 수행하기 전에 데이터의 스케일을 맞추는 것이 중요하다\n",
    "# 릿지 회귀를 사용하게 되면 Alpha(사용자가 입력하는 하이퍼 파라미터 값)를 이용해 가중치를 0에 가깝게 만들어준다."
   ]
  },
  {
   "cell_type": "code",
   "execution_count": 114,
   "metadata": {},
   "outputs": [
    {
     "data": {
      "text/plain": [
       "array([[1.22081082]])"
      ]
     },
     "execution_count": 114,
     "metadata": {},
     "output_type": "execute_result"
    }
   ],
   "source": [
    "from  sklearn.linear_model import Ridge\n",
    "ridge_reg = Ridge(alpha=1,solver='cholesky')\n",
    "ridge_reg.fit(X,y)\n",
    "ridge_reg.predict([[1.5]])"
   ]
  },
  {
   "cell_type": "code",
   "execution_count": 172,
   "metadata": {},
   "outputs": [
    {
     "data": {
      "text/plain": [
       "array([1.12464036])"
      ]
     },
     "execution_count": 172,
     "metadata": {},
     "output_type": "execute_result"
    }
   ],
   "source": [
    "from sklearn.linear_model import SGDRegressor\n",
    "sgd = SGDRegressor(alpha=1,penalty= 'l2')\n",
    "sgd.fit(X,y)\n",
    "sgd.predict([[1.5]])"
   ]
  },
  {
   "cell_type": "markdown",
   "metadata": {},
   "source": [
    "## 4-4-2 라쏘회귀"
   ]
  },
  {
   "cell_type": "code",
   "execution_count": 51,
   "metadata": {},
   "outputs": [],
   "source": [
    "# 선형모델에서 가중치의 값들에 대한 규제를 가하는 방식이다.\n",
    "# Norm1(맨해튼 거리)를 이용하여 규제를 가하게 되며, 기존 선형방정식의 비용함수 끝에 규제식을 붙인다.\n",
    "# 라쏘회귀는 릿지회귀와 다르게 중요하다고 판단되지않는 특성에 대해서 가중치 값을 0으로 만들어 해당 특성을 지워버린다.\n",
    "# 라쏘 회귀를 사용하게 되면 Alpha(사용자가 입력하는 하이퍼 파라미터 값)를 이용해 가중치를 0으로 만들거나, 규제를 가한다."
   ]
  },
  {
   "cell_type": "code",
   "execution_count": 182,
   "metadata": {},
   "outputs": [
    {
     "data": {
      "text/plain": [
       "array([1.17300452])"
      ]
     },
     "execution_count": 182,
     "metadata": {},
     "output_type": "execute_result"
    }
   ],
   "source": [
    "from  sklearn.linear_model import Lasso\n",
    "lasso_reg = Lasso(alpha=0.1)\n",
    "lasso_reg.fit(X,y)\n",
    "lasso_reg.predict([[1.5]])"
   ]
  },
  {
   "cell_type": "code",
   "execution_count": 212,
   "metadata": {},
   "outputs": [
    {
     "data": {
      "text/plain": [
       "array([1.00100189])"
      ]
     },
     "execution_count": 212,
     "metadata": {},
     "output_type": "execute_result"
    }
   ],
   "source": [
    "from sklearn.linear_model import SGDRegressor\n",
    "sgd = SGDRegressor(alpha=1,penalty= 'l1')\n",
    "sgd.fit(X,y)\n",
    "sgd.predict([[1.5]])"
   ]
  },
  {
   "cell_type": "markdown",
   "metadata": {},
   "source": [
    "## 4-4-3 엘라스틱넷"
   ]
  },
  {
   "cell_type": "code",
   "execution_count": 215,
   "metadata": {},
   "outputs": [],
   "source": [
    "# 릿지회귀와 라쏘 화귀를 절충한 모델이다.\n",
    "# 혼합 정도는 혼합 비율 r을 이용해 조절한다.\n",
    "# 특성 수가 훈련 샘플 수 보다가 많거나 특성 몇 개가 강하게 연관되어 있을 때는 보통 라쏘가 문제를 일으키므로 라쏘보다는 엘라스틱넷을 선호한다.\n",
    "# sklearn 에서는 l1.ratio = 파라미터를 이용해 조잘한다."
   ]
  },
  {
   "cell_type": "code",
   "execution_count": 216,
   "metadata": {},
   "outputs": [
    {
     "data": {
      "text/plain": [
       "array([1.19273884])"
      ]
     },
     "execution_count": 216,
     "metadata": {},
     "output_type": "execute_result"
    }
   ],
   "source": [
    "from sklearn.linear_model import ElasticNet\n",
    "en = ElasticNet(alpha=0.1,l1_ratio=0.5)\n",
    "en.fit(X,y)\n",
    "en.predict([[1.5]])"
   ]
  },
  {
   "cell_type": "markdown",
   "metadata": {},
   "source": [
    "# 4-5 조기 종료"
   ]
  },
  {
   "cell_type": "code",
   "execution_count": 217,
   "metadata": {},
   "outputs": [],
   "source": [
    "# 반복적인 학습 알고리즘(GD와 같은)을 규제하는 아주 색다른 방싱은 검증 에러가 최솟값에 도달하면 바로 훈련을 중지시키는 것이다.\n",
    "# 이를 조기종료라고 하며 과대적합하지 않게 도와준다."
   ]
  },
  {
   "cell_type": "markdown",
   "metadata": {},
   "source": [
    "# 4-6 로지스틱 회귀"
   ]
  },
  {
   "cell_type": "code",
   "execution_count": 264,
   "metadata": {},
   "outputs": [],
   "source": [
    "# 로지스틱 회귀는 True or False, 0 or 1과 같은 이진분류를 위한 분류기 이다.\n",
    "# 오즈함수는 일어날 확률(P)를 일어나지않을 확률(1-P)로 나눈 값이고, 여기에 양변에 ln을 취하게 되면 이를 로짓함수라고 한다.\n",
    "# 로짓함수의 역함수를 하게 되면 어떤 값을 넣었을 때 0~1 사이의 확률 값을 알 수 있는 S모양의 Sigmoid Function 이 나온다.\n",
    "# 이 sigmoid Function의 x값에 우리는 선형모델 식을 넣고, 이를 가설함수 H(x)로 한다. 값이 0.5보다 같거나 크면 1, 값이 0.5보다 작으면 0을 반환한다.\n",
    "# 비용함수는 목표변수가 1일 때와 0일 때 두가지 경우가 있어 모두 넣은 식을 것을 가중치에 대해 미분해 구하게 된다. \n",
    "# 로지스틱 회귀 모형도 다른 선형 모델 처럼 l1, l2규제를 사용할 수 있다. default 값으로 l2를 지정(단, alpha값이 아니고 그 역수에 해당하는 c로 계산하기 때문에 값이 커질수록 규제가 줄어든다)"
   ]
  },
  {
   "cell_type": "code",
   "execution_count": 249,
   "metadata": {},
   "outputs": [],
   "source": [
    "from sklearn import datasets\n",
    "iris = datasets.load_iris()\n",
    "X = iris['data'][:,3].reshape(-1,1)\n",
    "y = (iris['target'] ==2).astype(np.int)"
   ]
  },
  {
   "cell_type": "code",
   "execution_count": 250,
   "metadata": {},
   "outputs": [],
   "source": [
    "from sklearn.linear_model import LogisticRegression\n",
    "lr = LogisticRegression()"
   ]
  },
  {
   "cell_type": "code",
   "execution_count": 251,
   "metadata": {},
   "outputs": [
    {
     "data": {
      "text/plain": [
       "LogisticRegression()"
      ]
     },
     "execution_count": 251,
     "metadata": {},
     "output_type": "execute_result"
    }
   ],
   "source": [
    "lr.fit(X,y)"
   ]
  },
  {
   "cell_type": "code",
   "execution_count": 259,
   "metadata": {},
   "outputs": [
    {
     "data": {
      "text/plain": [
       "array([[9.99250016e-01, 7.49984089e-04],\n",
       "       [9.99240201e-01, 7.59799387e-04],\n",
       "       [9.99230257e-01, 7.69743043e-04],\n",
       "       ...,\n",
       "       [3.08374822e-03, 9.96916252e-01],\n",
       "       [3.04400296e-03, 9.96955997e-01],\n",
       "       [3.00476842e-03, 9.96995232e-01]])"
      ]
     },
     "execution_count": 259,
     "metadata": {},
     "output_type": "execute_result"
    }
   ],
   "source": [
    "y_proba"
   ]
  },
  {
   "cell_type": "code",
   "execution_count": 262,
   "metadata": {},
   "outputs": [
    {
     "data": {
      "text/plain": [
       "[<matplotlib.lines.Line2D at 0x7fe5f33783d0>]"
      ]
     },
     "execution_count": 262,
     "metadata": {},
     "output_type": "execute_result"
    },
    {
     "data": {
      "image/png": "[encoded data removed]",
      "text/plain": [
       "<Figure size 432x288 with 1 Axes>"
      ]
     },
     "metadata": {
      "needs_background": "light"
     },
     "output_type": "display_data"
    }
   ],
   "source": [
    "X_new = np.linspace(0,3,1000).reshape(-1,1)\n",
    "y_proba = lr.predict_proba(X_new)\n",
    "plt.plot(X_new,y_proba[:,0],'b--')\n",
    "plt.plot(X_new,y_proba[:,1],'g-')"
   ]
  },
  {
   "cell_type": "markdown",
   "metadata": {},
   "source": [
    "# 4-7 Softmax Regression\n"
   ]
  },
  {
   "cell_type": "code",
   "execution_count": 266,
   "metadata": {},
   "outputs": [],
   "source": [
    "# 소프트맥스 회귀는 다항 로지스틱 회귀라고 볼 수 있다.\n",
    "# 이진분류기인 로지스틱 회귀에서 가설함수를 sigmoid function을 사용하는 반면에, softmax는 소프트 맥스 함수를 사용하게 된다.\n",
    "# A,B,C 분류를 하려고 할 때, 각각의 선형모델에 의한 값을 Ya, Yb, Yc이라고 가정. Y값들을 자연상수의 차수로 올려주고 이루 전체 e**Ya + e**Yb + e**Yc를 분모로 각각의 값들을 분자로 계산\n",
    "# 위 식을 softmax regression의 가설함수라고 한다.\n",
    "# cost function은 -(실제값*log(예측값)) 의 총합(Cross Entropy)이다.\n",
    "# Gredient Descent를 이용해 가중치 값을 감소해가며 sklearn에서 규제는 default값으로 l2를 사용한다."
   ]
  },
  {
   "cell_type": "code",
   "execution_count": 271,
   "metadata": {},
   "outputs": [
    {
     "data": {
      "text/plain": [
       "LogisticRegression(C=10, multi_class='multinomial')"
      ]
     },
     "execution_count": 271,
     "metadata": {},
     "output_type": "execute_result"
    }
   ],
   "source": [
    "X = iris['data']\n",
    "y = iris['target']\n",
    "\n",
    "from sklearn.linear_model import LogisticRegression\n",
    "softmax = LogisticRegression(multi_class='multinomial',solver='lbfgs',C=10)\n",
    "softmax.fit(X,y)"
   ]
  },
  {
   "cell_type": "code",
   "execution_count": 272,
   "metadata": {},
   "outputs": [
    {
     "data": {
      "text/plain": [
       "array([1])"
      ]
     },
     "execution_count": 272,
     "metadata": {},
     "output_type": "execute_result"
    }
   ],
   "source": [
    "softmax.predict([[5,2,3,1]])"
   ]
  },
  {
   "cell_type": "code",
   "execution_count": 273,
   "metadata": {},
   "outputs": [
    {
     "data": {
      "text/plain": [
       "array([[4.35056196e-02, 9.56471225e-01, 2.31549380e-05]])"
      ]
     },
     "execution_count": 273,
     "metadata": {},
     "output_type": "execute_result"
    }
   ],
   "source": [
    "softmax.predict_proba([[5,2,3,1]])"
   ]
  },
  {
   "cell_type": "code",
   "execution_count": null,
   "metadata": {},
   "outputs": [],
   "source": []
  }
 ],
 "metadata": {
  "kernelspec": {
   "display_name": "Python 3",
   "language": "python",
   "name": "python3"
  },
  "language_info": {
   "codemirror_mode": {
    "name": "ipython",
    "version": 3
   },
   "file_extension": ".py",
   "mimetype": "text/x-python",
   "name": "python",
   "nbconvert_exporter": "python",
   "pygments_lexer": "ipython3",
   "version": "3.7.9"
  }
 },
 "nbformat": 4,
 "nbformat_minor": 4
}
