{
 "cells": [
  {
   "cell_type": "code",
   "execution_count": 1,
   "metadata": {},
   "outputs": [],
   "source": [
    "import numpy as np\n",
    "import pandas as pd\n",
    "import matplotlib.pyplot as plt\n",
    "%matplotlib inline\n",
    "import warnings\n",
    "warnings.filterwarnings(action='ignore')"
   ]
  },
  {
   "cell_type": "markdown",
   "metadata": {},
   "source": [
    "## 10-1-3 단층 퍼셉트론"
   ]
  },
  {
   "cell_type": "code",
   "execution_count": 2,
   "metadata": {},
   "outputs": [],
   "source": [
    "# 초기에는 입력값에 따른 가중치들, 편향의 합을 구하고 이후 계단함수를 통해 출력값 냈다.\n",
    "# 하지만 은닉층이 없는 간단한 단층퍼센트론은 XOR 문제를 풀 수 없었다\n",
    "# XOR과 같은 문제를 해결하기 위해 은닉층을 추가했고 은닉층이 1개 이상있는 것을 Multilayer Perceptron(MLP)이라고 한다."
   ]
  },
  {
   "cell_type": "code",
   "execution_count": 3,
   "metadata": {},
   "outputs": [
    {
     "name": "stdout",
     "output_type": "stream",
     "text": [
      "[0]\n",
      "[1]\n"
     ]
    }
   ],
   "source": [
    "# 단층 퍼셉트론은 학습률(0.1)에 따라 가중치를 업데이트하는 SGDClassifier와 같다.(규제도 없음)\n",
    "import numpy as np\n",
    "from sklearn.datasets import load_iris\n",
    "from sklearn.linear_model import Perceptron\n",
    "from sklearn.linear_model import SGDClassifier\n",
    "iris = load_iris()\n",
    "X = iris['data'][:,2:4]\n",
    "y = (iris['target'] == 0).astype(np.int)\n",
    "\n",
    "sgd = SGDClassifier(loss = 'perceptron',penalty=None,eta0=0.1,learning_rate='constant')\n",
    "per_clf = Perceptron()\n",
    "per_clf.fit(X,y)\n",
    "sgd.fit(X,y)\n",
    "\n",
    "y_pred_per = per_clf.predict([[2,0.5]])\n",
    "y_pred_sgd = sgd.predict([[2,0.5]])\n",
    "\n",
    "# 아무리 확률적으로 뽑아온다고 해도 값이 너무 다르잖아?\n",
    "print(y_pred_per)\n",
    "print(y_pred_sgd)"
   ]
  },
  {
   "cell_type": "markdown",
   "metadata": {},
   "source": [
    "# 케라스로 분류용 다층 퍼셉트론 만들기"
   ]
  },
  {
   "cell_type": "code",
   "execution_count": 4,
   "metadata": {},
   "outputs": [],
   "source": [
    "import tensorflow as tf\n",
    "import numpy as np\n",
    "from tensorflow.keras.utils import to_categorical\n",
    "from tensorflow.keras.datasets import mnist"
   ]
  },
  {
   "cell_type": "code",
   "execution_count": 5,
   "metadata": {},
   "outputs": [],
   "source": [
    "import tensorflow as tf\n",
    "from tensorflow import keras"
   ]
  },
  {
   "cell_type": "code",
   "execution_count": 6,
   "metadata": {},
   "outputs": [],
   "source": [
    "fashion_mnist = keras.datasets.fashion_mnist\n",
    "(X_train_full, y_train_full), (X_test, y_test) = fashion_mnist.load_data()"
   ]
  },
  {
   "cell_type": "code",
   "execution_count": 7,
   "metadata": {},
   "outputs": [
    {
     "data": {
      "text/plain": [
       "dtype('uint8')"
      ]
     },
     "execution_count": 7,
     "metadata": {},
     "output_type": "execute_result"
    }
   ],
   "source": [
    "X_train_full.dtype"
   ]
  },
  {
   "cell_type": "code",
   "execution_count": 8,
   "metadata": {},
   "outputs": [],
   "source": [
    "X_valid, X_train = X_train_full[:5000] / 255., X_train_full[5000:] / 255.\n",
    "y_valid, y_train = y_train_full[:5000], y_train_full[5000:]\n",
    "X_test = X_test / 255."
   ]
  },
  {
   "cell_type": "code",
   "execution_count": 9,
   "metadata": {},
   "outputs": [],
   "source": [
    "class_names = [\"T-shirt/top\", \"Trouser\", \"Pullover\", \"Dress\", \"Coat\",\"Sandal\", \"Shirt\", \"Sneaker\", \"Bag\", \"Ankle boot\"]"
   ]
  },
  {
   "cell_type": "code",
   "execution_count": 10,
   "metadata": {},
   "outputs": [],
   "source": [
    "# 시퀀스 모델을 만드는 것으로 가장 간단한 케라스 신경망 모델이다. 순서대로 연결된 층을 일렬로 쌓아서 구성한다.\n",
    "model = keras.models.Sequential()\n",
    "\n",
    "# 첫 번째 층을 만든다. Flatten은 입력 이미지를 1차원으로 변환한다. 즉, 데이터를 받으면 X.reshape(-1,1) 을 계산해준다.\n",
    "# 또한, 첫 번째 층이기 때문에 input_shape도 지정해야한다. \n",
    "model.add(keras.layers.Flatten(input_shape=[28, 28]))\n",
    "\n",
    "# 뉴런 300개를 가진 Dense 은닉층을 추가한다. Dense 층마다 각자 가중치 행렬을 관리한다. \n",
    "# 이 행렬에는 층의 뉴런과 입력 사이의 모든 연결 가중치가 포함된다.\n",
    "# 은닉층 각각의 노드들의 출력층이 300개, 100개, 10개이다. 마지막이 10개인 이유는 class_names의 결과값이 10개이기 때문이다.\n",
    "model.add(keras.layers.Dense(300, activation=\"relu\"))\n",
    "model.add(keras.layers.Dense(100, activation=\"relu\"))\n",
    "model.add(keras.layers.Dense(10, activation=\"softmax\"))"
   ]
  },
  {
   "cell_type": "code",
   "execution_count": 11,
   "metadata": {},
   "outputs": [],
   "source": [
    "keras.backend.clear_session()\n",
    "np.random.seed(42)\n",
    "tf.random.set_seed(42)\n",
    "\n",
    "\n",
    "# 이렇게 할 수 도 있다.\n",
    "model = keras.models.Sequential([\n",
    "    keras.layers.Flatten(input_shape = [28,28]),\n",
    "    keras.layers.Dense(300, activation = 'relu'),\n",
    "    keras.layers.Dense(100, activation = 'relu'),\n",
    "    keras.layers.Dense(10, activation = 'softmax'),\n",
    "])"
   ]
  },
  {
   "cell_type": "code",
   "execution_count": 12,
   "metadata": {},
   "outputs": [
    {
     "name": "stdout",
     "output_type": "stream",
     "text": [
      "Model: \"sequential\"\n",
      "_________________________________________________________________\n",
      "Layer (type)                 Output Shape              Param #   \n",
      "=================================================================\n",
      "flatten (Flatten)            (None, 784)               0         \n",
      "_________________________________________________________________\n",
      "dense (Dense)                (None, 300)               235500    \n",
      "_________________________________________________________________\n",
      "dense_1 (Dense)              (None, 100)               30100     \n",
      "_________________________________________________________________\n",
      "dense_2 (Dense)              (None, 10)                1010      \n",
      "=================================================================\n",
      "Total params: 266,610\n",
      "Trainable params: 266,610\n",
      "Non-trainable params: 0\n",
      "_________________________________________________________________\n"
     ]
    }
   ],
   "source": [
    "model.summary()"
   ]
  },
  {
   "cell_type": "code",
   "execution_count": 13,
   "metadata": {},
   "outputs": [
    {
     "data": {
      "text/plain": [
       "[<tensorflow.python.keras.layers.core.Flatten at 0x7fdb5393b0d0>,\n",
       " <tensorflow.python.keras.layers.core.Dense at 0x7fdb53942590>,\n",
       " <tensorflow.python.keras.layers.core.Dense at 0x7fdb53942890>,\n",
       " <tensorflow.python.keras.layers.core.Dense at 0x7fdb53942f10>]"
      ]
     },
     "execution_count": 13,
     "metadata": {},
     "output_type": "execute_result"
    }
   ],
   "source": [
    "model.layers"
   ]
  },
  {
   "cell_type": "code",
   "execution_count": 14,
   "metadata": {},
   "outputs": [
    {
     "data": {
      "text/plain": [
       "<tensorflow.python.keras.layers.core.Flatten at 0x7fdb5393b0d0>"
      ]
     },
     "execution_count": 14,
     "metadata": {},
     "output_type": "execute_result"
    }
   ],
   "source": [
    "model.layers[0]"
   ]
  },
  {
   "cell_type": "code",
   "execution_count": 15,
   "metadata": {},
   "outputs": [],
   "source": [
    "# 위와 같이 모델을 생성한 이후 compile 매서드를 이용해 사용할 손실 함수와 옵티마이저를 지정해야한다.\n",
    "# 비용함수\n",
    "# > 목표 레이블이 정수로만 이루어져있고 클래스가 배타적이라면 sparse_categorical_crossentropy를 사용한다. ex) 0,1,2,3,4,5,6,7,8,9\n",
    "# > 목표 레이블이 one hot encoding이라면 categorical_crossentropy를 사용한다. ex)0,0,0,0,0,1,0,0\n",
    "# > 목표 레이블이 이진분류 라면, binaray_crossentropy 사용. 또한 이진분류이기 때문에 출력층에 softmax가 아닌 sigmoid가 들어간다.\n",
    "model.compile(loss = 'sparse_categorical_crossentropy', optimizer = 'sgd',metrics = ['accuracy'])"
   ]
  },
  {
   "cell_type": "code",
   "execution_count": 22,
   "metadata": {},
   "outputs": [
    {
     "name": "stdout",
     "output_type": "stream",
     "text": [
      "Train on 55000 samples, validate on 5000 samples\n",
      "Epoch 1/30\n",
      "55000/55000 [==============================] - 3s 49us/sample - loss: 0.3611 - accuracy: 0.8733 - val_loss: 0.3722 - val_accuracy: 0.8686\n",
      "Epoch 2/30\n",
      "55000/55000 [==============================] - 3s 50us/sample - loss: 0.3517 - accuracy: 0.8753 - val_loss: 0.3611 - val_accuracy: 0.8712\n",
      "Epoch 3/30\n",
      "55000/55000 [==============================] - 3s 49us/sample - loss: 0.3425 - accuracy: 0.8786 - val_loss: 0.3595 - val_accuracy: 0.8730\n",
      "Epoch 4/30\n",
      "55000/55000 [==============================] - 3s 48us/sample - loss: 0.3321 - accuracy: 0.8811 - val_loss: 0.3561 - val_accuracy: 0.8732\n",
      "Epoch 5/30\n",
      "55000/55000 [==============================] - 3s 48us/sample - loss: 0.3237 - accuracy: 0.8841 - val_loss: 0.3391 - val_accuracy: 0.8764\n",
      "Epoch 6/30\n",
      "55000/55000 [==============================] - 3s 48us/sample - loss: 0.3162 - accuracy: 0.8875 - val_loss: 0.3374 - val_accuracy: 0.8796\n",
      "Epoch 7/30\n",
      "55000/55000 [==============================] - 3s 47us/sample - loss: 0.3085 - accuracy: 0.8902 - val_loss: 0.3396 - val_accuracy: 0.8798\n",
      "Epoch 8/30\n",
      "55000/55000 [==============================] - 3s 48us/sample - loss: 0.3022 - accuracy: 0.8925 - val_loss: 0.3380 - val_accuracy: 0.8798\n",
      "Epoch 9/30\n",
      "55000/55000 [==============================] - 3s 47us/sample - loss: 0.2962 - accuracy: 0.8933 - val_loss: 0.3195 - val_accuracy: 0.8866\n",
      "Epoch 10/30\n",
      "55000/55000 [==============================] - 3s 47us/sample - loss: 0.2902 - accuracy: 0.8964 - val_loss: 0.3310 - val_accuracy: 0.8838\n",
      "Epoch 11/30\n",
      "55000/55000 [==============================] - 3s 47us/sample - loss: 0.2847 - accuracy: 0.8979 - val_loss: 0.3177 - val_accuracy: 0.8874\n",
      "Epoch 12/30\n",
      "55000/55000 [==============================] - 3s 47us/sample - loss: 0.2785 - accuracy: 0.9010 - val_loss: 0.3140 - val_accuracy: 0.8900\n",
      "Epoch 13/30\n",
      "55000/55000 [==============================] - 3s 47us/sample - loss: 0.2722 - accuracy: 0.9029 - val_loss: 0.3169 - val_accuracy: 0.8880\n",
      "Epoch 14/30\n",
      "55000/55000 [==============================] - 3s 47us/sample - loss: 0.2682 - accuracy: 0.9039 - val_loss: 0.3077 - val_accuracy: 0.8920\n",
      "Epoch 15/30\n",
      "55000/55000 [==============================] - 3s 47us/sample - loss: 0.2634 - accuracy: 0.9051 - val_loss: 0.3051 - val_accuracy: 0.8910\n",
      "Epoch 16/30\n",
      "55000/55000 [==============================] - 3s 47us/sample - loss: 0.2595 - accuracy: 0.9062 - val_loss: 0.3103 - val_accuracy: 0.8938\n",
      "Epoch 17/30\n",
      "55000/55000 [==============================] - 3s 49us/sample - loss: 0.2540 - accuracy: 0.9093 - val_loss: 0.3055 - val_accuracy: 0.8944\n",
      "Epoch 18/30\n",
      "55000/55000 [==============================] - 3s 51us/sample - loss: 0.2497 - accuracy: 0.9103 - val_loss: 0.2985 - val_accuracy: 0.8962\n",
      "Epoch 19/30\n",
      "55000/55000 [==============================] - 3s 50us/sample - loss: 0.2455 - accuracy: 0.9122 - val_loss: 0.3108 - val_accuracy: 0.8872\n",
      "Epoch 20/30\n",
      "55000/55000 [==============================] - 3s 47us/sample - loss: 0.2415 - accuracy: 0.9135 - val_loss: 0.3109 - val_accuracy: 0.8876\n",
      "Epoch 21/30\n",
      "55000/55000 [==============================] - 3s 47us/sample - loss: 0.2379 - accuracy: 0.9137 - val_loss: 0.2924 - val_accuracy: 0.8954\n",
      "Epoch 22/30\n",
      "55000/55000 [==============================] - 3s 47us/sample - loss: 0.2327 - accuracy: 0.9171 - val_loss: 0.2996 - val_accuracy: 0.8932\n",
      "Epoch 23/30\n",
      "55000/55000 [==============================] - 3s 47us/sample - loss: 0.2297 - accuracy: 0.9181 - val_loss: 0.2931 - val_accuracy: 0.8952\n",
      "Epoch 24/30\n",
      "55000/55000 [==============================] - 3s 48us/sample - loss: 0.2257 - accuracy: 0.9191 - val_loss: 0.3085 - val_accuracy: 0.8860\n",
      "Epoch 25/30\n",
      "55000/55000 [==============================] - 3s 47us/sample - loss: 0.2221 - accuracy: 0.9209 - val_loss: 0.3007 - val_accuracy: 0.8924\n",
      "Epoch 26/30\n",
      "55000/55000 [==============================] - 3s 47us/sample - loss: 0.2185 - accuracy: 0.9221 - val_loss: 0.3258 - val_accuracy: 0.8858\n",
      "Epoch 27/30\n",
      "55000/55000 [==============================] - 3s 47us/sample - loss: 0.2152 - accuracy: 0.9238 - val_loss: 0.3060 - val_accuracy: 0.8910\n",
      "Epoch 28/30\n",
      "55000/55000 [==============================] - 3s 47us/sample - loss: 0.2108 - accuracy: 0.9256 - val_loss: 0.2936 - val_accuracy: 0.8938\n",
      "Epoch 29/30\n",
      "55000/55000 [==============================] - 3s 47us/sample - loss: 0.2080 - accuracy: 0.9262 - val_loss: 0.2940 - val_accuracy: 0.8982\n",
      "Epoch 30/30\n",
      "55000/55000 [==============================] - 3s 47us/sample - loss: 0.2050 - accuracy: 0.9281 - val_loss: 0.2985 - val_accuracy: 0.8926\n"
     ]
    }
   ],
   "source": [
    "history = model.fit(X_train, y_train, epochs=30,validation_data=(X_valid, y_valid))"
   ]
  },
  {
   "cell_type": "code",
   "execution_count": 23,
   "metadata": {},
   "outputs": [
    {
     "name": "stdout",
     "output_type": "stream",
     "text": [
      "10000/10000 [==============================] - 0s 19us/sample - loss: 0.3297 - accuracy: 0.8828\n"
     ]
    },
    {
     "data": {
      "text/plain": [
       "[0.32973676719069483, 0.8828]"
      ]
     },
     "execution_count": 23,
     "metadata": {},
     "output_type": "execute_result"
    }
   ],
   "source": [
    "model.evaluate(X_test, y_test)"
   ]
  },
  {
   "cell_type": "code",
   "execution_count": 24,
   "metadata": {},
   "outputs": [
    {
     "data": {
      "image/png": "[encoded data removed]",
      "text/plain": [
       "<Figure size 432x288 with 1 Axes>"
      ]
     },
     "metadata": {
      "needs_background": "light"
     },
     "output_type": "display_data"
    }
   ],
   "source": [
    "# sequential api를 이용해 만든 모델의 객체인 history는 수행된 에포크가 끝날 때마다 훈련 세트와 검증세크에 대한 손힐과 측정한 지표를 담은 딕셔너리 속성을 갖는다.\n",
    "import pandas as pd\n",
    "import matplotlib.pyplot as plt\n",
    "\n",
    "pd.DataFrame(history.history).plot()\n",
    "plt.gca().set_ylim(0,1)\n",
    "plt.grid(True)"
   ]
  },
  {
   "cell_type": "code",
   "execution_count": 25,
   "metadata": {},
   "outputs": [
    {
     "name": "stdout",
     "output_type": "stream",
     "text": [
      "10000/10000 [==============================] - 0s 19us/sample - loss: 0.3297 - accuracy: 0.8828\n"
     ]
    },
    {
     "data": {
      "text/plain": [
       "[0.32973676719069483, 0.8828]"
      ]
     },
     "execution_count": 25,
     "metadata": {},
     "output_type": "execute_result"
    }
   ],
   "source": [
    "model.evaluate(X_test,y_test)"
   ]
  },
  {
   "cell_type": "code",
   "execution_count": 26,
   "metadata": {},
   "outputs": [
    {
     "data": {
      "text/plain": [
       "array([[0.  , 0.  , 0.  , 0.  , 0.  , 0.  , 0.  , 0.01, 0.  , 0.99],\n",
       "       [0.  , 0.  , 0.99, 0.  , 0.01, 0.  , 0.  , 0.  , 0.  , 0.  ],\n",
       "       [0.  , 1.  , 0.  , 0.  , 0.  , 0.  , 0.  , 0.  , 0.  , 0.  ]],\n",
       "      dtype=float32)"
      ]
     },
     "execution_count": 26,
     "metadata": {},
     "output_type": "execute_result"
    }
   ],
   "source": [
    "X_new = X_test[:3]\n",
    "y_proba = model.predict(X_new)\n",
    "y_proba.round(2)"
   ]
  },
  {
   "cell_type": "code",
   "execution_count": 27,
   "metadata": {},
   "outputs": [
    {
     "data": {
      "text/plain": [
       "array([9, 2, 1])"
      ]
     },
     "execution_count": 27,
     "metadata": {},
     "output_type": "execute_result"
    }
   ],
   "source": [
    "y_pred = model.predict_classes(X_new)\n",
    "y_pred"
   ]
  },
  {
   "cell_type": "code",
   "execution_count": 28,
   "metadata": {},
   "outputs": [
    {
     "data": {
      "text/plain": [
       "array(['Ankle boot', 'Pullover', 'Trouser'], dtype='<U11')"
      ]
     },
     "execution_count": 28,
     "metadata": {},
     "output_type": "execute_result"
    }
   ],
   "source": [
    "np.array(class_names)[y_pred]"
   ]
  },
  {
   "cell_type": "markdown",
   "metadata": {},
   "source": [
    "# 케라스로 회귀용 다층 퍼셉트론 만들기 "
   ]
  },
  {
   "cell_type": "code",
   "execution_count": 70,
   "metadata": {},
   "outputs": [],
   "source": [
    "from sklearn.datasets import fetch_california_housing\n",
    "from sklearn.model_selection import train_test_split\n",
    "from sklearn.preprocessing import StandardScaler\n",
    "\n",
    "housing = fetch_california_housing()\n",
    "\n",
    "X_train_full,X_test,y_train_full,y_test = train_test_split(housing['data'],housing['target'])\n",
    "X_train, X_valid, y_train, y_valid = train_test_split(X_train_full,y_train_full)\n",
    "\n",
    "scaler = StandardScaler()\n",
    "X_train = scaler.fit_transform(X_train)\n",
    "X_valid = scaler.fit_transform(X_valid)\n",
    "X_test = scaler.fit_transform(X_test)\n",
    "\n",
    "model = tf.keras.Sequential([\n",
    "    keras.layers.Dense(30,activation = 'relu',input_shape = X_train.shape[1:]), # 이 데이터는 이상치가 많기 때문에 과대적합을 막기 위해 은닉층을 한 개만 설정해줬다. \n",
    "    keras.layers.Dense(1) # 회귀는 마지막 활성화 함수가 없는 하나의 뉴런이다.\n",
    "])\n",
    "\n",
    "metrics=[keras.metrics.sparse_categorical_accuracy]\n",
    "model.compile(loss='mean_squared_error',optimizer = 'sgd')\n"
   ]
  },
  {
   "cell_type": "code",
   "execution_count": 71,
   "metadata": {},
   "outputs": [
    {
     "name": "stdout",
     "output_type": "stream",
     "text": [
      "Train on 11610 samples, validate on 3870 samples\n",
      "Epoch 1/20\n",
      "11610/11610 [==============================] - 0s 37us/sample - loss: 1.0627 - val_loss: 0.5768\n",
      "Epoch 2/20\n",
      "11610/11610 [==============================] - 0s 23us/sample - loss: 0.4862 - val_loss: 0.4869\n",
      "Epoch 3/20\n",
      "11610/11610 [==============================] - 0s 23us/sample - loss: 0.4502 - val_loss: 0.4722\n",
      "Epoch 4/20\n",
      "11610/11610 [==============================] - 0s 23us/sample - loss: 0.4299 - val_loss: 0.4673\n",
      "Epoch 5/20\n",
      "11610/11610 [==============================] - 0s 23us/sample - loss: 0.4557 - val_loss: 0.4630\n",
      "Epoch 6/20\n",
      "11610/11610 [==============================] - 0s 23us/sample - loss: 0.4281 - val_loss: 0.4324\n",
      "Epoch 7/20\n",
      "11610/11610 [==============================] - 0s 23us/sample - loss: 0.4004 - val_loss: 0.4244\n",
      "Epoch 8/20\n",
      "11610/11610 [==============================] - 0s 23us/sample - loss: 0.3950 - val_loss: 0.4226\n",
      "Epoch 9/20\n",
      "11610/11610 [==============================] - 0s 23us/sample - loss: 0.3900 - val_loss: 0.4197\n",
      "Epoch 10/20\n",
      "11610/11610 [==============================] - 0s 23us/sample - loss: 0.3842 - val_loss: 0.4292\n",
      "Epoch 11/20\n",
      "11610/11610 [==============================] - 0s 23us/sample - loss: 0.3851 - val_loss: 0.4535\n",
      "Epoch 12/20\n",
      "11610/11610 [==============================] - 0s 23us/sample - loss: 0.3796 - val_loss: 0.4095\n",
      "Epoch 13/20\n",
      "11610/11610 [==============================] - 0s 23us/sample - loss: 0.3769 - val_loss: 0.4114\n",
      "Epoch 14/20\n",
      "11610/11610 [==============================] - 0s 23us/sample - loss: 0.3725 - val_loss: 0.4130\n",
      "Epoch 15/20\n",
      "11610/11610 [==============================] - 0s 23us/sample - loss: 0.3718 - val_loss: 0.4110\n",
      "Epoch 16/20\n",
      "11610/11610 [==============================] - 0s 23us/sample - loss: 0.3687 - val_loss: 0.4083\n",
      "Epoch 17/20\n",
      "11610/11610 [==============================] - 0s 23us/sample - loss: 0.3670 - val_loss: 0.4102\n",
      "Epoch 18/20\n",
      "11610/11610 [==============================] - 0s 26us/sample - loss: 0.3650 - val_loss: 0.4072\n",
      "Epoch 19/20\n",
      "11610/11610 [==============================] - 0s 27us/sample - loss: 0.3630 - val_loss: 0.4076\n",
      "Epoch 20/20\n",
      "11610/11610 [==============================] - 0s 23us/sample - loss: 0.3618 - val_loss: 0.4128\n",
      "5160/5160 [==============================] - 0s 13us/sample - loss: 2.1166\n"
     ]
    },
    {
     "data": {
      "text/plain": [
       "array([[0.3597173],\n",
       "       [2.3716075],\n",
       "       [8.403187 ]], dtype=float32)"
      ]
     },
     "execution_count": 71,
     "metadata": {},
     "output_type": "execute_result"
    }
   ],
   "source": [
    "\n",
    "history = model.fit(X_train,y_train, epochs =20, validation_data=(X_valid,y_valid))\n",
    "mse_test = model.evaluate(X_test,y_test)\n",
    "X_new = X_test[:3]\n",
    "y_pred = model.predict(X_new)\n",
    "y_pred"
   ]
  },
  {
   "cell_type": "markdown",
   "metadata": {},
   "source": [
    "# 함수형 API를 이용해 복잡한 모델만들기"
   ]
  },
  {
   "cell_type": "code",
   "execution_count": 32,
   "metadata": {},
   "outputs": [],
   "source": [
    "housing = fetch_california_housing()\n",
    "\n",
    "X_train_full,X_test,y_train_full,y_test = train_test_split(housing['data'],housing['target'])\n",
    "X_train, X_valid, y_train, y_valid = train_test_split(X_train_full,y_train_full)\n",
    "\n",
    "scaler = StandardScaler()\n",
    "X_train = scaler.fit_transform(X_train)\n",
    "X_valid = scaler.fit_transform(X_valid)\n",
    "X_test = scaler.fit_transform(X_test)"
   ]
  },
  {
   "cell_type": "code",
   "execution_count": 33,
   "metadata": {},
   "outputs": [],
   "source": [
    "input_ = keras.layers.Input(shape=X_train.shape[1:]) # input 객체 만들기. \n",
    "hidden1 = keras.layers.Dense(30,activation = 'relu')(input_) # 30개의 뉴런과 ReLU 활성화 함수를 가진 Dense 층을 만든다. 입력과 함께 호출\n",
    "hidden2 = keras.layers.Dense(30,activation = 'relu')(hidden1) # 윗 줄과 동일\n",
    "concat = keras.layers.Concatenate()([input_,hidden2]) # 두 번째 층과 입력층을 연결하기\n",
    "output = keras.layers.Dense(1)(concat) # 하나의 뉴런과 활성화 함수가 없는 출력층을 만들고 concat층과 연결\n",
    "model = keras.Model(inputs = [input_],outputs = [output]) # 케라스 모델로 생성"
   ]
  },
  {
   "cell_type": "code",
   "execution_count": 34,
   "metadata": {},
   "outputs": [],
   "source": [
    "input_A = keras.layers.Input(shape = [5],name = 'wide_input')\n",
    "input_B = keras.layers.Input(shape = [6],name = 'deep_input')\n",
    "hidden1 = keras.layers.Dense(30,activation='relu')(input_B)\n",
    "hidden2 = keras.layers.Dense(30,activation='relu')(hidden1)\n",
    "concat = keras.layers.concatenate([input_A,hidden2])\n",
    "output = keras.layers.Dense(1,name= 'output')(concat)\n",
    "model = keras.Model(inputs = [input_A,input_B],outputs = [output])"
   ]
  },
  {
   "cell_type": "code",
   "execution_count": 35,
   "metadata": {},
   "outputs": [],
   "source": [
    "model.compile(loss = \"mse\",optimizer = keras.optimizers.SGD(lr=1e-3))"
   ]
  },
  {
   "cell_type": "code",
   "execution_count": 36,
   "metadata": {},
   "outputs": [
    {
     "name": "stdout",
     "output_type": "stream",
     "text": [
      "Train on 11610 samples, validate on 3870 samples\n",
      "Epoch 1/20\n",
      "11610/11610 [==============================] - 0s 41us/sample - loss: 1.9038 - val_loss: 0.8852\n",
      "Epoch 2/20\n",
      "11610/11610 [==============================] - 0s 25us/sample - loss: 0.8437 - val_loss: 0.6841\n",
      "Epoch 3/20\n",
      "11610/11610 [==============================] - 0s 25us/sample - loss: 0.7117 - val_loss: 0.6136\n",
      "Epoch 4/20\n",
      "11610/11610 [==============================] - 0s 25us/sample - loss: 0.6568 - val_loss: 0.5715\n",
      "Epoch 5/20\n",
      "11610/11610 [==============================] - 0s 25us/sample - loss: 0.6224 - val_loss: 0.5428\n",
      "Epoch 6/20\n",
      "11610/11610 [==============================] - 0s 25us/sample - loss: 0.5969 - val_loss: 0.5201\n",
      "Epoch 7/20\n",
      "11610/11610 [==============================] - 0s 25us/sample - loss: 0.5771 - val_loss: 0.5034\n",
      "Epoch 8/20\n",
      "11610/11610 [==============================] - 0s 25us/sample - loss: 0.5597 - val_loss: 0.4892\n",
      "Epoch 9/20\n",
      "11610/11610 [==============================] - 0s 25us/sample - loss: 0.5456 - val_loss: 0.4693\n",
      "Epoch 10/20\n",
      "11610/11610 [==============================] - 0s 25us/sample - loss: 0.5329 - val_loss: 0.4603\n",
      "Epoch 11/20\n",
      "11610/11610 [==============================] - 0s 25us/sample - loss: 0.5224 - val_loss: 0.4526\n",
      "Epoch 12/20\n",
      "11610/11610 [==============================] - 0s 25us/sample - loss: 0.5116 - val_loss: 0.4576\n",
      "Epoch 13/20\n",
      "11610/11610 [==============================] - 0s 25us/sample - loss: 0.5094 - val_loss: 0.4417\n",
      "Epoch 14/20\n",
      "11610/11610 [==============================] - 0s 26us/sample - loss: 0.4990 - val_loss: 0.4407\n",
      "Epoch 15/20\n",
      "11610/11610 [==============================] - 0s 26us/sample - loss: 0.4946 - val_loss: 0.4578\n",
      "Epoch 16/20\n",
      "11610/11610 [==============================] - 0s 26us/sample - loss: 0.4900 - val_loss: 0.4447\n",
      "Epoch 17/20\n",
      "11610/11610 [==============================] - 0s 27us/sample - loss: 0.4879 - val_loss: 0.4521\n",
      "Epoch 18/20\n",
      "11610/11610 [==============================] - 0s 26us/sample - loss: 0.4853 - val_loss: 0.4511\n",
      "Epoch 19/20\n",
      "11610/11610 [==============================] - 0s 26us/sample - loss: 0.4817 - val_loss: 0.4550\n",
      "Epoch 20/20\n",
      "11610/11610 [==============================] - 0s 26us/sample - loss: 0.4795 - val_loss: 0.4625\n",
      "5160/5160 [==============================] - 0s 14us/sample - loss: 0.4767\n"
     ]
    }
   ],
   "source": [
    "X_train_A, X_train_B = X_train[:, :5], X_train[:, 2:]\n",
    "X_valid_A, X_valid_B = X_valid[:, :5], X_valid[:, 2:]\n",
    "X_test_A, X_test_B = X_test[:, :5], X_test[:, 2:]\n",
    "X_new_A, X_new_B = X_test_A[:3], X_test_B[:3]\n",
    "\n",
    "history = model.fit((X_train_A, X_train_B), y_train, epochs=20,\n",
    "                    validation_data=((X_valid_A, X_valid_B), y_valid))\n",
    "mse_test = model.evaluate((X_test_A, X_test_B), y_test)\n",
    "y_pred = model.predict((X_new_A, X_new_B))"
   ]
  },
  {
   "cell_type": "markdown",
   "metadata": {},
   "source": [
    "# 서브클래싱 API로 동적 모델 만들기"
   ]
  },
  {
   "cell_type": "code",
   "execution_count": 38,
   "metadata": {},
   "outputs": [],
   "source": [
    "class DeepModel(keras.Model):\n",
    "    def __init__(self, units = 30, activation = 'relu',**kargs):\n",
    "        super().__init__(**kargs)\n",
    "        self.hidden1 = keras.layers.Dense(units,activation=activation)\n",
    "        self.hidden2 = keras.layers.Dense(units,activation=activation)\n",
    "        self.main_output = keras.layers.Dense(1)\n",
    "        self.aux_output = keras.layers.Dense(1)\n",
    "    \n",
    "    def call(self,inputs):\n",
    "        input_A, input_B = inputs\n",
    "        hidden1 = self.hidden1(input_B)\n",
    "        hidden2 = self.hidden2(hidden1)\n",
    "        concat = keras.layers.concatenate([input_A, hidden2])\n",
    "        main_output = self.main_output(concat)\n",
    "        aux_output = self.aux_output(hidden2)\n",
    "        return main_output, aux_output\n",
    "\n",
    "model = DeepModel(30, activation=\"relu\")"
   ]
  },
  {
   "cell_type": "code",
   "execution_count": 39,
   "metadata": {},
   "outputs": [
    {
     "name": "stdout",
     "output_type": "stream",
     "text": [
      "Train on 11610 samples, validate on 3870 samples\n",
      "Epoch 1/10\n",
      "11610/11610 [==============================] - 1s 55us/sample - loss: 2.6470 - output_1_loss: 2.4159 - output_2_loss: 4.7161 - val_loss: 1.2124 - val_output_1_loss: 0.9614 - val_output_2_loss: 3.4689\n",
      "Epoch 2/10\n",
      "11610/11610 [==============================] - 0s 28us/sample - loss: 1.0998 - output_1_loss: 0.8938 - output_2_loss: 2.9535 - val_loss: 0.8963 - val_output_1_loss: 0.7459 - val_output_2_loss: 2.2475\n",
      "Epoch 3/10\n",
      "11610/11610 [==============================] - 0s 28us/sample - loss: 0.8885 - output_1_loss: 0.7551 - output_2_loss: 2.0894 - val_loss: 0.7692 - val_output_1_loss: 0.6602 - val_output_2_loss: 1.7486\n",
      "Epoch 4/10\n",
      "11610/11610 [==============================] - 0s 29us/sample - loss: 0.7975 - output_1_loss: 0.6940 - output_2_loss: 1.7303 - val_loss: 0.7072 - val_output_1_loss: 0.6137 - val_output_2_loss: 1.5477\n",
      "Epoch 5/10\n",
      "11610/11610 [==============================] - 0s 29us/sample - loss: 0.7478 - output_1_loss: 0.6567 - output_2_loss: 1.5719 - val_loss: 0.6664 - val_output_1_loss: 0.5789 - val_output_2_loss: 1.4526\n",
      "Epoch 6/10\n",
      "11610/11610 [==============================] - 0s 30us/sample - loss: 0.7134 - output_1_loss: 0.6274 - output_2_loss: 1.4879 - val_loss: 0.6354 - val_output_1_loss: 0.5516 - val_output_2_loss: 1.3883\n",
      "Epoch 7/10\n",
      "11610/11610 [==============================] - 0s 28us/sample - loss: 0.6868 - output_1_loss: 0.6042 - output_2_loss: 1.4289 - val_loss: 0.6103 - val_output_1_loss: 0.5296 - val_output_2_loss: 1.3353\n",
      "Epoch 8/10\n",
      "11610/11610 [==============================] - 0s 28us/sample - loss: 0.6653 - output_1_loss: 0.5858 - output_2_loss: 1.3808 - val_loss: 0.5877 - val_output_1_loss: 0.5097 - val_output_2_loss: 1.2887\n",
      "Epoch 9/10\n",
      "11610/11610 [==============================] - 0s 28us/sample - loss: 0.6472 - output_1_loss: 0.5700 - output_2_loss: 1.3400 - val_loss: 0.5684 - val_output_1_loss: 0.4929 - val_output_2_loss: 1.2461\n",
      "Epoch 10/10\n",
      "11610/11610 [==============================] - 0s 28us/sample - loss: 0.6318 - output_1_loss: 0.5574 - output_2_loss: 1.3022 - val_loss: 0.5548 - val_output_1_loss: 0.4822 - val_output_2_loss: 1.2066\n"
     ]
    }
   ],
   "source": [
    "model.compile(loss=\"mse\", loss_weights=[0.9, 0.1], optimizer=keras.optimizers.SGD(lr=1e-3))\n",
    "history = model.fit((X_train_A, X_train_B), (y_train, y_train), epochs=10,\n",
    "                    validation_data=((X_valid_A, X_valid_B), (y_valid, y_valid)))"
   ]
  },
  {
   "cell_type": "code",
   "execution_count": 40,
   "metadata": {},
   "outputs": [
    {
     "name": "stdout",
     "output_type": "stream",
     "text": [
      "5160/5160 [==============================] - 0s 17us/sample - loss: 0.6270 - output_1_loss: 0.5489 - output_2_loss: 1.3278\n"
     ]
    }
   ],
   "source": [
    "total_loss, main_loss, aux_loss = model.evaluate((X_test_A, X_test_B), (y_test, y_test))\n",
    "y_pred_main, y_pred_aux = model.predict((X_new_A, X_new_B))"
   ]
  },
  {
   "cell_type": "code",
   "execution_count": 66,
   "metadata": {},
   "outputs": [],
   "source": [
    "import tensorflow as tf\n",
    "from tensorflow import keras\n",
    "\n",
    "# 데이터 들고와서 훈련, 검증, 테스트 데이터 나눠주기.\n",
    "housing = fetch_california_housing()\n",
    "X_train_full,X_test,y_train_full,y_test = train_test_split(housing['data'],housing['target'])\n",
    "X_train, X_valid, y_train, y_valid = train_test_split(X_train_full,y_train_full)\n",
    "\n",
    "scaler = StandardScaler()\n",
    "X_train = scaler.fit_transform(X_train)\n",
    "X_valid = scaler.fit_transform(X_valid)\n",
    "X_test = scaler.fit_transform(X_test)\n",
    "\n",
    "class_names = [\"T-shirt/top\", \"Trouser\", \"Pullover\", \"Dress\", \"Coat\",\"Sandal\", \"Shirt\", \"Sneaker\", \"Bag\", \"Ankle boot\"]"
   ]
  },
  {
   "cell_type": "code",
   "execution_count": 67,
   "metadata": {},
   "outputs": [],
   "source": [
    "keras.backend.clear_session()"
   ]
  },
  {
   "cell_type": "code",
   "execution_count": 72,
   "metadata": {},
   "outputs": [],
   "source": [
    "np.random.seed(42)\n",
    "tf.random.set_seed(42)\n",
    "\n",
    "# 이렇게 할 수 도 있다.\n",
    "model = keras.models.Sequential([\n",
    "    keras.layers.Flatten(input_shape = [28,28]),\n",
    "    keras.layers.Dense(300, activation = 'relu'),\n",
    "    keras.layers.Dense(100, activation = 'relu'),\n",
    "    keras.layers.Dense(10, activation = 'softmax'),\n",
    "])"
   ]
  },
  {
   "cell_type": "code",
   "execution_count": 75,
   "metadata": {},
   "outputs": [
    {
     "name": "stdout",
     "output_type": "stream",
     "text": [
      "Train on 11610 samples, validate on 3870 samples\n",
      "Epoch 1/20\n",
      "11610/11610 [==============================] - 0s 38us/sample - loss: 1.1254 - val_loss: 0.7641\n",
      "Epoch 2/20\n",
      "11610/11610 [==============================] - 0s 23us/sample - loss: 0.4838 - val_loss: 0.9699\n",
      "Epoch 3/20\n",
      "11610/11610 [==============================] - 0s 23us/sample - loss: 0.4330 - val_loss: 1.0081\n",
      "Epoch 4/20\n",
      "11610/11610 [==============================] - 0s 23us/sample - loss: 0.4123 - val_loss: 1.2232\n",
      "Epoch 5/20\n",
      "11610/11610 [==============================] - 0s 23us/sample - loss: 0.3982 - val_loss: 1.4731\n",
      "Epoch 6/20\n",
      "11610/11610 [==============================] - 0s 23us/sample - loss: 0.3885 - val_loss: 1.6834\n",
      "Epoch 7/20\n",
      "11610/11610 [==============================] - 0s 23us/sample - loss: 0.3836 - val_loss: 1.9219\n",
      "Epoch 8/20\n",
      "11610/11610 [==============================] - 0s 23us/sample - loss: 0.3795 - val_loss: 2.1043\n",
      "Epoch 9/20\n",
      "11610/11610 [==============================] - 0s 23us/sample - loss: 0.3767 - val_loss: 2.1545\n",
      "Epoch 10/20\n",
      "11610/11610 [==============================] - 0s 23us/sample - loss: 0.3731 - val_loss: 2.3222\n",
      "Epoch 11/20\n",
      "11610/11610 [==============================] - 0s 23us/sample - loss: 0.3715 - val_loss: 2.5901\n",
      "Epoch 12/20\n",
      "11610/11610 [==============================] - 0s 23us/sample - loss: 0.3680 - val_loss: 2.6341\n",
      "Epoch 13/20\n",
      "11610/11610 [==============================] - 0s 25us/sample - loss: 0.3659 - val_loss: 2.9214\n",
      "Epoch 14/20\n",
      "11610/11610 [==============================] - 0s 24us/sample - loss: 0.3671 - val_loss: 2.9784\n",
      "Epoch 15/20\n",
      "11610/11610 [==============================] - 0s 23us/sample - loss: 0.3626 - val_loss: 3.1392\n",
      "Epoch 16/20\n",
      "11610/11610 [==============================] - 0s 25us/sample - loss: 0.3598 - val_loss: 3.1924\n",
      "Epoch 17/20\n",
      "11610/11610 [==============================] - 0s 25us/sample - loss: 0.3577 - val_loss: 3.3496\n",
      "Epoch 18/20\n",
      "11610/11610 [==============================] - 0s 23us/sample - loss: 0.3573 - val_loss: 3.3587\n",
      "Epoch 19/20\n",
      "11610/11610 [==============================] - 0s 23us/sample - loss: 0.3559 - val_loss: 3.5675\n",
      "Epoch 20/20\n",
      "11610/11610 [==============================] - 0s 23us/sample - loss: 0.3551 - val_loss: 3.6478\n",
      "5160/5160 [==============================] - 0s 12us/sample - loss: 0.4131\n"
     ]
    },
    {
     "data": {
      "text/plain": [
       "array([[1.4480991],\n",
       "       [2.4052885],\n",
       "       [2.9039862]], dtype=float32)"
      ]
     },
     "execution_count": 75,
     "metadata": {},
     "output_type": "execute_result"
    }
   ],
   "source": [
    "housing = fetch_california_housing()\n",
    "\n",
    "X_train_full,X_test,y_train_full,y_test = train_test_split(housing['data'],housing['target'])\n",
    "X_train, X_valid, y_train, y_valid = train_test_split(X_train_full,y_train_full)\n",
    "\n",
    "scaler = StandardScaler()\n",
    "X_train = scaler.fit_transform(X_train)\n",
    "X_valid = scaler.fit_transform(X_valid)\n",
    "X_test = scaler.fit_transform(X_test)\n",
    "\n",
    "model = tf.keras.Sequential([\n",
    "    keras.layers.Dense(30,activation = 'relu',input_shape = X_train.shape[1:]), # 이 데이터는 이상치가 많기 때문에 과대적합을 막기 위해 은닉층을 한 개만 설정해줬다. \n",
    "    keras.layers.Dense(1) # 회귀는 마지막 활성화 함수가 없는 하나의 뉴런이다.\n",
    "])\n",
    "\n",
    "metrics=[keras.metrics.sparse_categorical_accuracy]\n",
    "model.compile(loss='mean_squared_error',optimizer = 'sgd')\n",
    "\n",
    "check_point = keras.callbacks.ModelCheckpoint('my_keras_model.h5',save_best_only=True)\n",
    "history = model.fit(X_train,y_train, epochs =20, validation_data=(X_valid,y_valid),callbacks=[check_point])\n",
    "mse_test = model.evaluate(X_test,y_test)\n",
    "X_new = X_test[:3]\n",
    "y_pred = model.predict(X_new)\n",
    "y_pred"
   ]
  },
  {
   "cell_type": "code",
   "execution_count": 76,
   "metadata": {},
   "outputs": [],
   "source": [
    "model = keras.models.load_model('my_keras_model.h5')"
   ]
  },
  {
   "cell_type": "code",
   "execution_count": 77,
   "metadata": {},
   "outputs": [
    {
     "data": {
      "text/plain": [
       "<tensorflow.python.keras.engine.sequential.Sequential at 0x7fdb53e7b490>"
      ]
     },
     "execution_count": 77,
     "metadata": {},
     "output_type": "execute_result"
    }
   ],
   "source": [
    "model"
   ]
  },
  {
   "cell_type": "code",
   "execution_count": 78,
   "metadata": {},
   "outputs": [],
   "source": [
    "import os\n",
    "root_logdir = os.path.join(os.curdir,'test_logs')"
   ]
  },
  {
   "cell_type": "code",
   "execution_count": 80,
   "metadata": {},
   "outputs": [],
   "source": [
    "def get_run_logdir():\n",
    "    import time\n",
    "    run_id = time.strftime('run_%Y_%m_%d-%H_%M_%S')\n",
    "    return os.path.join(root_logdir, run_id)\n",
    "\n",
    "run_logdir = get_run_logdir()"
   ]
  },
  {
   "cell_type": "code",
   "execution_count": 83,
   "metadata": {},
   "outputs": [
    {
     "data": {
      "text/plain": [
       "'./test_logs/run_2020_11_14-20_53_26'"
      ]
     },
     "execution_count": 83,
     "metadata": {},
     "output_type": "execute_result"
    }
   ],
   "source": [
    "run_logdir"
   ]
  },
  {
   "cell_type": "code",
   "execution_count": 84,
   "metadata": {},
   "outputs": [],
   "source": [
    "keras.backend.clear_session()\n",
    "np.random.seed(42)\n",
    "tf.random.set_seed(42)"
   ]
  },
  {
   "cell_type": "code",
   "execution_count": 85,
   "metadata": {},
   "outputs": [],
   "source": [
    "model = keras.models.Sequential([\n",
    "    keras.layers.Dense(30, activation=\"relu\", input_shape=[8]),\n",
    "    keras.layers.Dense(30, activation=\"relu\"),\n",
    "    keras.layers.Dense(1)\n",
    "])    \n",
    "model.compile(loss=\"mse\", optimizer=keras.optimizers.SGD(lr=1e-3))"
   ]
  },
  {
   "cell_type": "code",
   "execution_count": 87,
   "metadata": {},
   "outputs": [
    {
     "name": "stdout",
     "output_type": "stream",
     "text": [
      "Train on 11610 samples, validate on 3870 samples\n",
      "Epoch 1/30\n",
      "11610/11610 [==============================] - 1s 46us/sample - loss: 1.8721 - val_loss: 0.7241\n",
      "Epoch 2/30\n",
      "11610/11610 [==============================] - 0s 29us/sample - loss: 0.6656 - val_loss: 0.6107\n",
      "Epoch 3/30\n",
      "11610/11610 [==============================] - 0s 29us/sample - loss: 0.5977 - val_loss: 0.5808\n",
      "Epoch 4/30\n",
      "11610/11610 [==============================] - 0s 29us/sample - loss: 0.5616 - val_loss: 0.5581\n",
      "Epoch 5/30\n",
      "11610/11610 [==============================] - 0s 29us/sample - loss: 0.5335 - val_loss: 0.5408\n",
      "Epoch 6/30\n",
      "11610/11610 [==============================] - 0s 29us/sample - loss: 0.5127 - val_loss: 0.5244\n",
      "Epoch 7/30\n",
      "11610/11610 [==============================] - 0s 30us/sample - loss: 0.4952 - val_loss: 0.5150\n",
      "Epoch 8/30\n",
      "11610/11610 [==============================] - 0s 30us/sample - loss: 0.4819 - val_loss: 0.5064\n",
      "Epoch 9/30\n",
      "11610/11610 [==============================] - 0s 32us/sample - loss: 0.4708 - val_loss: 0.5020\n",
      "Epoch 10/30\n",
      "11610/11610 [==============================] - 0s 31us/sample - loss: 0.4624 - val_loss: 0.4978\n",
      "Epoch 11/30\n",
      "11610/11610 [==============================] - 0s 29us/sample - loss: 0.4549 - val_loss: 0.4963\n",
      "Epoch 12/30\n",
      "11610/11610 [==============================] - 0s 29us/sample - loss: 0.4490 - val_loss: 0.4925\n",
      "Epoch 13/30\n",
      "11610/11610 [==============================] - 0s 28us/sample - loss: 0.4435 - val_loss: 0.4917\n",
      "Epoch 14/30\n",
      "11610/11610 [==============================] - 0s 28us/sample - loss: 0.4397 - val_loss: 0.4934\n",
      "Epoch 15/30\n",
      "11610/11610 [==============================] - 0s 28us/sample - loss: 0.4359 - val_loss: 0.4954\n",
      "Epoch 16/30\n",
      "11610/11610 [==============================] - 0s 28us/sample - loss: 0.4322 - val_loss: 0.4924\n",
      "Epoch 17/30\n",
      "11610/11610 [==============================] - 0s 28us/sample - loss: 0.4288 - val_loss: 0.4992\n",
      "Epoch 18/30\n",
      "11610/11610 [==============================] - 0s 27us/sample - loss: 0.4262 - val_loss: 0.5009\n",
      "Epoch 19/30\n",
      "11610/11610 [==============================] - 0s 28us/sample - loss: 0.4233 - val_loss: 0.5072\n",
      "Epoch 20/30\n",
      "11610/11610 [==============================] - 0s 27us/sample - loss: 0.4213 - val_loss: 0.5035\n",
      "Epoch 21/30\n",
      "11610/11610 [==============================] - 0s 27us/sample - loss: 0.4183 - val_loss: 0.5119\n",
      "Epoch 22/30\n",
      "11610/11610 [==============================] - 0s 27us/sample - loss: 0.4162 - val_loss: 0.5169\n",
      "Epoch 23/30\n",
      "11610/11610 [==============================] - 0s 27us/sample - loss: 0.4138 - val_loss: 0.5157\n",
      "Epoch 24/30\n",
      "11610/11610 [==============================] - 0s 28us/sample - loss: 0.4116 - val_loss: 0.5242\n",
      "Epoch 25/30\n",
      "11610/11610 [==============================] - 0s 27us/sample - loss: 0.4096 - val_loss: 0.5306\n",
      "Epoch 26/30\n",
      "11610/11610 [==============================] - 0s 27us/sample - loss: 0.4076 - val_loss: 0.5361\n",
      "Epoch 27/30\n",
      "11610/11610 [==============================] - 0s 27us/sample - loss: 0.4056 - val_loss: 0.5461\n",
      "Epoch 28/30\n",
      "11610/11610 [==============================] - 0s 27us/sample - loss: 0.4040 - val_loss: 0.5581\n",
      "Epoch 29/30\n",
      "11610/11610 [==============================] - 0s 28us/sample - loss: 0.4022 - val_loss: 0.5595\n",
      "Epoch 30/30\n",
      "11610/11610 [==============================] - 0s 27us/sample - loss: 0.4002 - val_loss: 0.5847\n"
     ]
    }
   ],
   "source": [
    "tensorboard_cb = keras.callbacks.TensorBoard(run_logdir)\n",
    "history = model.fit(X_train, y_train, epochs=30,\n",
    "                    validation_data=(X_valid, y_valid),\n",
    "                    callbacks=[check_point, tensorboard_cb])"
   ]
  },
  {
   "cell_type": "markdown",
   "metadata": {},
   "source": [
    "# 신경망 하이퍼파리미터 튜닝하기"
   ]
  },
  {
   "cell_type": "code",
   "execution_count": 3,
   "metadata": {},
   "outputs": [],
   "source": [
    "from tensorflow import keras\n",
    "import tensorflow as tf"
   ]
  },
  {
   "cell_type": "code",
   "execution_count": 4,
   "metadata": {},
   "outputs": [],
   "source": [
    "# 신경망의 유연성은 단점이기도 하다\n",
    "# 조절할 하이퍼 파라미터가 많기 때문이다.\n",
    "# 층의 개수, 층마다 있는 뉴런의 개수, 각 층에서 사용하는 활성화 함수, 가중치 초기화 전략 등 많은 것을 바꿀 수 있다.\n",
    "# GridSeachCV, RandomizedSearchCV를 사용해 하이퍼 파라미터 공간을 탐색할 수 있다."
   ]
  },
  {
   "cell_type": "code",
   "execution_count": 26,
   "metadata": {},
   "outputs": [],
   "source": [
    "def build_model(n_hidden =1, n_neurons =30, learning_rate = 3e-3, input_shape = [8]):\n",
    "    model = keras.models.Sequential()\n",
    "    model.add(keras.layers.InputLayer(input_shape=input_shape))\n",
    "    for layer in range(n_hidden):\n",
    "        model.add(keras.layers.Dense(n_neurons, activation = 'relu'))\n",
    "    model.add(keras.layers.Dense(1))\n",
    "    optimizer = keras.optimizers.SGD(lr = learning_rate)\n",
    "    model.compile(loss ='mse',optimizer = optimizer,metrics=['accuracy'])\n",
    "    return model\n",
    "\n",
    "keras_reg = keras.wrappers.scikit_learn.KerasRegressor(build_model)"
   ]
  },
  {
   "cell_type": "code",
   "execution_count": 27,
   "metadata": {},
   "outputs": [
    {
     "name": "stdout",
     "output_type": "stream",
     "text": [
      "Train on 11610 samples, validate on 3870 samples\n",
      "Epoch 1/100\n",
      "11610/11610 [==============================] - 0s 41us/sample - loss: 1.2648 - accuracy: 0.0030 - val_loss: 0.9223 - val_accuracy: 0.0028\n",
      "Epoch 2/100\n",
      "11610/11610 [==============================] - 0s 24us/sample - loss: 0.9264 - accuracy: 0.0031 - val_loss: 2.0240 - val_accuracy: 0.0028\n",
      "Epoch 3/100\n",
      "11610/11610 [==============================] - 0s 24us/sample - loss: 2.1083 - accuracy: 0.0029 - val_loss: 0.5939 - val_accuracy: 0.0028\n",
      "Epoch 4/100\n",
      "11610/11610 [==============================] - 0s 25us/sample - loss: 0.5365 - accuracy: 0.0030 - val_loss: 0.5417 - val_accuracy: 0.0028\n",
      "Epoch 5/100\n",
      "11610/11610 [==============================] - 0s 24us/sample - loss: 0.4979 - accuracy: 0.0030 - val_loss: 0.5131 - val_accuracy: 0.0028\n",
      "Epoch 6/100\n",
      "11610/11610 [==============================] - 0s 25us/sample - loss: 0.4770 - accuracy: 0.0030 - val_loss: 0.4905 - val_accuracy: 0.0028\n",
      "Epoch 7/100\n",
      "11610/11610 [==============================] - 0s 24us/sample - loss: 0.4623 - accuracy: 0.0028 - val_loss: 0.4790 - val_accuracy: 0.0028\n",
      "Epoch 8/100\n",
      "11610/11610 [==============================] - 0s 25us/sample - loss: 0.4518 - accuracy: 0.0029 - val_loss: 0.4690 - val_accuracy: 0.0028\n",
      "Epoch 9/100\n",
      "11610/11610 [==============================] - 0s 25us/sample - loss: 0.4436 - accuracy: 0.0029 - val_loss: 0.4597 - val_accuracy: 0.0028\n",
      "Epoch 10/100\n",
      "11610/11610 [==============================] - 0s 24us/sample - loss: 0.4365 - accuracy: 0.0028 - val_loss: 0.4517 - val_accuracy: 0.0028\n",
      "Epoch 11/100\n",
      "11610/11610 [==============================] - 0s 25us/sample - loss: 0.4307 - accuracy: 0.0031 - val_loss: 0.4446 - val_accuracy: 0.0028\n",
      "Epoch 12/100\n",
      "11610/11610 [==============================] - 0s 24us/sample - loss: 0.4259 - accuracy: 0.0031 - val_loss: 0.4376 - val_accuracy: 0.0028\n",
      "Epoch 13/100\n",
      "11610/11610 [==============================] - 0s 25us/sample - loss: 0.4214 - accuracy: 0.0031 - val_loss: 0.4324 - val_accuracy: 0.0028\n",
      "Epoch 14/100\n",
      "11610/11610 [==============================] - 0s 24us/sample - loss: 0.4177 - accuracy: 0.0031 - val_loss: 0.4288 - val_accuracy: 0.0028\n",
      "Epoch 15/100\n",
      "11610/11610 [==============================] - 0s 25us/sample - loss: 0.4139 - accuracy: 0.0031 - val_loss: 0.4260 - val_accuracy: 0.0028\n",
      "Epoch 16/100\n",
      "11610/11610 [==============================] - 0s 25us/sample - loss: 0.4110 - accuracy: 0.0031 - val_loss: 0.4230 - val_accuracy: 0.0028\n",
      "Epoch 17/100\n",
      "11610/11610 [==============================] - 0s 24us/sample - loss: 0.4077 - accuracy: 0.0031 - val_loss: 0.4190 - val_accuracy: 0.0028\n",
      "Epoch 18/100\n",
      "11610/11610 [==============================] - 0s 26us/sample - loss: 0.4054 - accuracy: 0.0031 - val_loss: 0.4144 - val_accuracy: 0.0028\n",
      "Epoch 19/100\n",
      "11610/11610 [==============================] - 0s 25us/sample - loss: 0.4025 - accuracy: 0.0031 - val_loss: 0.4129 - val_accuracy: 0.0028\n",
      "Epoch 20/100\n",
      "11610/11610 [==============================] - 0s 24us/sample - loss: 0.3998 - accuracy: 0.0031 - val_loss: 0.4125 - val_accuracy: 0.0028\n",
      "Epoch 21/100\n",
      "11610/11610 [==============================] - 0s 25us/sample - loss: 0.3979 - accuracy: 0.0031 - val_loss: 0.4093 - val_accuracy: 0.0028\n",
      "Epoch 22/100\n",
      "11610/11610 [==============================] - 0s 24us/sample - loss: 0.3953 - accuracy: 0.0031 - val_loss: 0.4055 - val_accuracy: 0.0028\n",
      "Epoch 23/100\n",
      "11610/11610 [==============================] - 0s 25us/sample - loss: 0.3933 - accuracy: 0.0031 - val_loss: 0.4048 - val_accuracy: 0.0028\n",
      "Epoch 24/100\n",
      "11610/11610 [==============================] - 0s 25us/sample - loss: 0.3910 - accuracy: 0.0031 - val_loss: 0.4029 - val_accuracy: 0.0028\n",
      "Epoch 25/100\n",
      "11610/11610 [==============================] - 0s 25us/sample - loss: 0.3889 - accuracy: 0.0031 - val_loss: 0.4011 - val_accuracy: 0.0028\n",
      "Epoch 26/100\n",
      "11610/11610 [==============================] - 0s 25us/sample - loss: 0.3869 - accuracy: 0.0031 - val_loss: 0.3989 - val_accuracy: 0.0028\n",
      "Epoch 27/100\n",
      "11610/11610 [==============================] - 0s 25us/sample - loss: 0.3853 - accuracy: 0.0031 - val_loss: 0.3984 - val_accuracy: 0.0028\n",
      "Epoch 28/100\n",
      "11610/11610 [==============================] - 0s 27us/sample - loss: 0.3835 - accuracy: 0.0031 - val_loss: 0.3965 - val_accuracy: 0.0028\n",
      "Epoch 29/100\n",
      "11610/11610 [==============================] - 0s 25us/sample - loss: 0.3818 - accuracy: 0.0031 - val_loss: 0.3957 - val_accuracy: 0.0028\n",
      "Epoch 30/100\n",
      "11610/11610 [==============================] - 0s 29us/sample - loss: 0.3805 - accuracy: 0.0031 - val_loss: 0.3938 - val_accuracy: 0.0028\n",
      "Epoch 31/100\n",
      "11610/11610 [==============================] - 0s 27us/sample - loss: 0.3786 - accuracy: 0.0031 - val_loss: 0.3920 - val_accuracy: 0.0028\n",
      "Epoch 32/100\n",
      "11610/11610 [==============================] - 0s 25us/sample - loss: 0.3774 - accuracy: 0.0031 - val_loss: 0.3908 - val_accuracy: 0.0028\n",
      "Epoch 33/100\n",
      "11610/11610 [==============================] - 0s 25us/sample - loss: 0.3757 - accuracy: 0.0031 - val_loss: 0.3919 - val_accuracy: 0.0028\n",
      "Epoch 34/100\n",
      "11610/11610 [==============================] - 0s 25us/sample - loss: 0.3746 - accuracy: 0.0031 - val_loss: 0.3883 - val_accuracy: 0.0028\n",
      "Epoch 35/100\n",
      "11610/11610 [==============================] - 0s 26us/sample - loss: 0.3732 - accuracy: 0.0031 - val_loss: 0.3857 - val_accuracy: 0.0028\n",
      "Epoch 36/100\n",
      "11610/11610 [==============================] - 0s 26us/sample - loss: 0.3721 - accuracy: 0.0031 - val_loss: 0.3852 - val_accuracy: 0.0028\n",
      "Epoch 37/100\n",
      "11610/11610 [==============================] - 0s 25us/sample - loss: 0.3708 - accuracy: 0.0031 - val_loss: 0.3835 - val_accuracy: 0.0028\n",
      "Epoch 38/100\n",
      "11610/11610 [==============================] - 0s 25us/sample - loss: 0.3698 - accuracy: 0.0031 - val_loss: 0.3832 - val_accuracy: 0.0028\n",
      "Epoch 39/100\n",
      "11610/11610 [==============================] - 0s 25us/sample - loss: 0.3689 - accuracy: 0.0031 - val_loss: 0.3826 - val_accuracy: 0.0028\n",
      "Epoch 40/100\n",
      "11610/11610 [==============================] - 0s 25us/sample - loss: 0.3674 - accuracy: 0.0031 - val_loss: 0.3808 - val_accuracy: 0.0028\n",
      "Epoch 41/100\n",
      "11610/11610 [==============================] - 0s 25us/sample - loss: 0.3664 - accuracy: 0.0031 - val_loss: 0.3795 - val_accuracy: 0.0028\n",
      "Epoch 42/100\n",
      "11610/11610 [==============================] - 0s 25us/sample - loss: 0.3655 - accuracy: 0.0031 - val_loss: 0.3783 - val_accuracy: 0.0028\n",
      "Epoch 43/100\n",
      "11610/11610 [==============================] - 0s 25us/sample - loss: 0.3644 - accuracy: 0.0031 - val_loss: 0.3782 - val_accuracy: 0.0028\n",
      "Epoch 44/100\n",
      "11610/11610 [==============================] - 0s 25us/sample - loss: 0.3633 - accuracy: 0.0031 - val_loss: 0.3768 - val_accuracy: 0.0028\n",
      "Epoch 45/100\n",
      "11610/11610 [==============================] - 0s 25us/sample - loss: 0.3627 - accuracy: 0.0031 - val_loss: 0.3763 - val_accuracy: 0.0028\n",
      "Epoch 46/100\n",
      "11610/11610 [==============================] - 0s 25us/sample - loss: 0.3615 - accuracy: 0.0031 - val_loss: 0.3757 - val_accuracy: 0.0028\n",
      "Epoch 47/100\n",
      "11610/11610 [==============================] - 0s 25us/sample - loss: 0.3611 - accuracy: 0.0031 - val_loss: 0.3766 - val_accuracy: 0.0028\n",
      "Epoch 48/100\n",
      "11610/11610 [==============================] - 0s 25us/sample - loss: 0.3598 - accuracy: 0.0031 - val_loss: 0.3737 - val_accuracy: 0.0028\n",
      "Epoch 49/100\n",
      "11610/11610 [==============================] - 0s 24us/sample - loss: 0.3595 - accuracy: 0.0031 - val_loss: 0.3737 - val_accuracy: 0.0028\n",
      "Epoch 50/100\n",
      "11610/11610 [==============================] - 0s 25us/sample - loss: 0.3587 - accuracy: 0.0031 - val_loss: 0.3744 - val_accuracy: 0.0028\n",
      "Epoch 51/100\n",
      "11610/11610 [==============================] - 0s 24us/sample - loss: 0.3577 - accuracy: 0.0031 - val_loss: 0.3768 - val_accuracy: 0.0028\n",
      "Epoch 52/100\n",
      "11610/11610 [==============================] - 0s 24us/sample - loss: 0.3572 - accuracy: 0.0031 - val_loss: 0.3730 - val_accuracy: 0.0028\n",
      "Epoch 53/100\n",
      "11610/11610 [==============================] - 0s 25us/sample - loss: 0.3564 - accuracy: 0.0031 - val_loss: 0.3720 - val_accuracy: 0.0028\n",
      "Epoch 54/100\n",
      "11610/11610 [==============================] - 0s 24us/sample - loss: 0.3556 - accuracy: 0.0031 - val_loss: 0.3760 - val_accuracy: 0.0028\n",
      "Epoch 55/100\n",
      "11610/11610 [==============================] - 0s 25us/sample - loss: 0.3557 - accuracy: 0.0031 - val_loss: 0.3697 - val_accuracy: 0.0028\n",
      "Epoch 56/100\n",
      "11610/11610 [==============================] - 0s 25us/sample - loss: 0.3547 - accuracy: 0.0031 - val_loss: 0.3708 - val_accuracy: 0.0028\n",
      "Epoch 57/100\n",
      "11610/11610 [==============================] - 0s 25us/sample - loss: 0.3543 - accuracy: 0.0031 - val_loss: 0.3696 - val_accuracy: 0.0028\n",
      "Epoch 58/100\n",
      "11610/11610 [==============================] - 0s 24us/sample - loss: 0.3532 - accuracy: 0.0031 - val_loss: 0.3713 - val_accuracy: 0.0028\n",
      "Epoch 59/100\n",
      "11610/11610 [==============================] - 0s 25us/sample - loss: 0.3527 - accuracy: 0.0031 - val_loss: 0.3683 - val_accuracy: 0.0028\n",
      "Epoch 60/100\n",
      "11610/11610 [==============================] - 0s 24us/sample - loss: 0.3521 - accuracy: 0.0031 - val_loss: 0.3684 - val_accuracy: 0.0028\n",
      "Epoch 61/100\n",
      "11610/11610 [==============================] - 0s 24us/sample - loss: 0.3518 - accuracy: 0.0031 - val_loss: 0.3675 - val_accuracy: 0.0028\n",
      "Epoch 62/100\n",
      "11610/11610 [==============================] - 0s 25us/sample - loss: 0.3509 - accuracy: 0.0031 - val_loss: 0.3651 - val_accuracy: 0.0028\n",
      "Epoch 63/100\n",
      "11610/11610 [==============================] - 0s 27us/sample - loss: 0.3501 - accuracy: 0.0031 - val_loss: 0.3648 - val_accuracy: 0.0028\n",
      "Epoch 64/100\n",
      "11610/11610 [==============================] - 0s 27us/sample - loss: 0.3498 - accuracy: 0.0031 - val_loss: 0.3647 - val_accuracy: 0.0028\n",
      "Epoch 65/100\n",
      "11610/11610 [==============================] - 0s 25us/sample - loss: 0.3494 - accuracy: 0.0031 - val_loss: 0.3648 - val_accuracy: 0.0028\n",
      "Epoch 66/100\n",
      "11610/11610 [==============================] - 0s 27us/sample - loss: 0.3483 - accuracy: 0.0031 - val_loss: 0.3640 - val_accuracy: 0.0028\n",
      "Epoch 67/100\n",
      "11610/11610 [==============================] - 0s 25us/sample - loss: 0.3477 - accuracy: 0.0031 - val_loss: 0.3658 - val_accuracy: 0.0028\n",
      "Epoch 68/100\n",
      "11610/11610 [==============================] - 0s 26us/sample - loss: 0.3468 - accuracy: 0.0031 - val_loss: 0.3626 - val_accuracy: 0.0028\n",
      "Epoch 69/100\n",
      "11610/11610 [==============================] - 0s 25us/sample - loss: 0.3472 - accuracy: 0.0031 - val_loss: 0.3648 - val_accuracy: 0.0028\n",
      "Epoch 70/100\n",
      "11610/11610 [==============================] - 0s 25us/sample - loss: 0.3464 - accuracy: 0.0031 - val_loss: 0.3629 - val_accuracy: 0.0028\n",
      "Epoch 71/100\n",
      "11610/11610 [==============================] - 0s 25us/sample - loss: 0.3453 - accuracy: 0.0031 - val_loss: 0.3617 - val_accuracy: 0.0028\n",
      "Epoch 72/100\n",
      "11610/11610 [==============================] - 0s 25us/sample - loss: 0.3449 - accuracy: 0.0031 - val_loss: 0.3614 - val_accuracy: 0.0028\n",
      "Epoch 73/100\n",
      "11610/11610 [==============================] - 0s 30us/sample - loss: 0.3442 - accuracy: 0.0031 - val_loss: 0.3611 - val_accuracy: 0.0028\n",
      "Epoch 74/100\n",
      "11610/11610 [==============================] - 0s 29us/sample - loss: 0.3438 - accuracy: 0.0031 - val_loss: 0.3605 - val_accuracy: 0.0028\n",
      "Epoch 75/100\n",
      "11610/11610 [==============================] - 0s 25us/sample - loss: 0.3433 - accuracy: 0.0031 - val_loss: 0.3592 - val_accuracy: 0.0028\n",
      "Epoch 76/100\n",
      "11610/11610 [==============================] - 0s 25us/sample - loss: 0.3430 - accuracy: 0.0031 - val_loss: 0.3591 - val_accuracy: 0.0028\n",
      "Epoch 77/100\n",
      "11610/11610 [==============================] - 0s 25us/sample - loss: 0.3420 - accuracy: 0.0031 - val_loss: 0.3595 - val_accuracy: 0.0028\n",
      "Epoch 78/100\n",
      "11610/11610 [==============================] - 0s 24us/sample - loss: 0.3428 - accuracy: 0.0031 - val_loss: 0.3581 - val_accuracy: 0.0028\n",
      "Epoch 79/100\n",
      "11610/11610 [==============================] - 0s 25us/sample - loss: 0.3407 - accuracy: 0.0031 - val_loss: 0.3596 - val_accuracy: 0.0028\n",
      "Epoch 80/100\n",
      "11610/11610 [==============================] - 0s 26us/sample - loss: 0.3407 - accuracy: 0.0031 - val_loss: 0.3567 - val_accuracy: 0.0028\n",
      "Epoch 81/100\n",
      "11610/11610 [==============================] - 0s 25us/sample - loss: 0.3404 - accuracy: 0.0031 - val_loss: 0.3613 - val_accuracy: 0.0028\n",
      "Epoch 82/100\n",
      "11610/11610 [==============================] - 0s 24us/sample - loss: 0.3403 - accuracy: 0.0031 - val_loss: 0.3592 - val_accuracy: 0.0028\n",
      "Epoch 83/100\n",
      "11610/11610 [==============================] - 0s 25us/sample - loss: 0.3392 - accuracy: 0.0031 - val_loss: 0.3575 - val_accuracy: 0.0028\n",
      "Epoch 84/100\n",
      "11610/11610 [==============================] - 0s 25us/sample - loss: 0.3390 - accuracy: 0.0031 - val_loss: 0.3560 - val_accuracy: 0.0028\n",
      "Epoch 85/100\n",
      "11610/11610 [==============================] - 0s 26us/sample - loss: 0.3384 - accuracy: 0.0031 - val_loss: 0.3565 - val_accuracy: 0.0028\n",
      "Epoch 86/100\n",
      "11610/11610 [==============================] - 0s 24us/sample - loss: 0.3376 - accuracy: 0.0031 - val_loss: 0.3562 - val_accuracy: 0.0028\n",
      "Epoch 87/100\n",
      "11610/11610 [==============================] - 0s 26us/sample - loss: 0.3378 - accuracy: 0.0031 - val_loss: 0.3548 - val_accuracy: 0.0028\n",
      "Epoch 88/100\n",
      "11610/11610 [==============================] - 0s 25us/sample - loss: 0.3373 - accuracy: 0.0031 - val_loss: 0.3562 - val_accuracy: 0.0028\n",
      "Epoch 89/100\n",
      "11610/11610 [==============================] - 0s 25us/sample - loss: 0.3373 - accuracy: 0.0031 - val_loss: 0.3546 - val_accuracy: 0.0028\n",
      "Epoch 90/100\n",
      "11610/11610 [==============================] - 0s 25us/sample - loss: 0.3365 - accuracy: 0.0031 - val_loss: 0.3538 - val_accuracy: 0.0028\n",
      "Epoch 91/100\n",
      "11610/11610 [==============================] - 0s 25us/sample - loss: 0.3362 - accuracy: 0.0031 - val_loss: 0.3537 - val_accuracy: 0.0028\n",
      "Epoch 92/100\n",
      "11610/11610 [==============================] - 0s 25us/sample - loss: 0.3358 - accuracy: 0.0031 - val_loss: 0.3528 - val_accuracy: 0.0028\n",
      "Epoch 93/100\n",
      "11610/11610 [==============================] - 0s 28us/sample - loss: 0.3348 - accuracy: 0.0031 - val_loss: 0.3524 - val_accuracy: 0.0028\n",
      "Epoch 94/100\n",
      "11610/11610 [==============================] - 0s 25us/sample - loss: 0.3351 - accuracy: 0.0031 - val_loss: 0.3530 - val_accuracy: 0.0028\n",
      "Epoch 95/100\n",
      "11610/11610 [==============================] - 0s 25us/sample - loss: 0.3342 - accuracy: 0.0031 - val_loss: 0.3535 - val_accuracy: 0.0028\n",
      "Epoch 96/100\n",
      "11610/11610 [==============================] - 0s 25us/sample - loss: 0.3340 - accuracy: 0.0031 - val_loss: 0.3524 - val_accuracy: 0.0028\n",
      "Epoch 97/100\n",
      "11610/11610 [==============================] - 0s 24us/sample - loss: 0.3337 - accuracy: 0.0031 - val_loss: 0.3524 - val_accuracy: 0.0028\n",
      "Epoch 98/100\n",
      "11610/11610 [==============================] - 0s 25us/sample - loss: 0.3332 - accuracy: 0.0031 - val_loss: 0.3536 - val_accuracy: 0.0028\n",
      "Epoch 99/100\n",
      "11610/11610 [==============================] - 0s 24us/sample - loss: 0.3329 - accuracy: 0.0031 - val_loss: 0.3512 - val_accuracy: 0.0028\n",
      "Epoch 100/100\n",
      "11610/11610 [==============================] - 0s 25us/sample - loss: 0.3324 - accuracy: 0.0031 - val_loss: 0.3511 - val_accuracy: 0.0028\n"
     ]
    },
    {
     "data": {
      "text/plain": [
       "<tensorflow.python.keras.callbacks.History at 0x7fbf68108e90>"
      ]
     },
     "execution_count": 27,
     "metadata": {},
     "output_type": "execute_result"
    }
   ],
   "source": [
    "from sklearn.datasets import fetch_california_housing\n",
    "from sklearn.model_selection import train_test_split\n",
    "from sklearn.preprocessing import StandardScaler\n",
    "\n",
    "housing = fetch_california_housing()\n",
    "X_train_full,X_test,y_train_full,y_test = train_test_split(housing['data'],housing['target'])\n",
    "X_train, X_valid, y_train, y_valid = train_test_split(X_train_full,y_train_full)\n",
    "\n",
    "scaler = StandardScaler()\n",
    "X_train = scaler.fit_transform(X_train)\n",
    "X_valid = scaler.fit_transform(X_valid)\n",
    "X_test = scaler.fit_transform(X_test)\n",
    "\n",
    "class_names = [\"T-shirt/top\", \"Trouser\", \"Pullover\", \"Dress\", \"Coat\",\"Sandal\", \"Shirt\", \"Sneaker\", \"Bag\", \"Ankle boot\"]\n",
    "\n",
    "keras_reg.fit(X_train, y_train, epochs=100,\n",
    "              validation_data=(X_valid, y_valid),\n",
    "              callbacks=[keras.callbacks.EarlyStopping(patience=10)])"
   ]
  },
  {
   "cell_type": "code",
   "execution_count": 25,
   "metadata": {},
   "outputs": [
    {
     "name": "stdout",
     "output_type": "stream",
     "text": [
      "5160/5160 [==============================] - 0s 13us/sample - loss: 0.7549 - accuracy: 0.0023\n"
     ]
    }
   ],
   "source": [
    "mes_test = keras_reg.score(X_test,y_test)"
   ]
  },
  {
   "cell_type": "code",
   "execution_count": null,
   "metadata": {},
   "outputs": [],
   "source": []
  }
 ],
 "metadata": {
  "kernelspec": {
   "display_name": "Python 3",
   "language": "python",
   "name": "python3"
  },
  "language_info": {
   "codemirror_mode": {
    "name": "ipython",
    "version": 3
   },
   "file_extension": ".py",
   "mimetype": "text/x-python",
   "name": "python",
   "nbconvert_exporter": "python",
   "pygments_lexer": "ipython3",
   "version": "3.7.9"
  }
 },
 "nbformat": 4,
 "nbformat_minor": 4
}
